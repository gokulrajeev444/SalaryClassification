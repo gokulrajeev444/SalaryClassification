{
  "cells": [
    {
      "cell_type": "code",
      "source": [
        "#pip install pyspark"
      ],
      "metadata": {
        "id": "D4j7o38a8e_r"
      },
      "id": "D4j7o38a8e_r",
      "execution_count": 1,
      "outputs": []
    },
    {
      "cell_type": "code",
      "execution_count": 2,
      "id": "573409e2",
      "metadata": {
        "id": "573409e2"
      },
      "outputs": [],
      "source": [
        "import pandas as pd\n",
        "from sklearn.model_selection import cross_val_score\n",
        "from sklearn.tree import DecisionTreeClassifier\n",
        "from sklearn.model_selection import cross_val_predict\n",
        "import pandas as pd\n",
        "import numpy as np\n",
        "import pyspark\n",
        "from sklearn.model_selection import train_test_split\n",
        "from sklearn.ensemble import RandomForestClassifier\n",
        "from sklearn.neighbors import KNeighborsClassifier\n",
        "from sklearn.linear_model import LogisticRegression\n",
        "from sklearn.metrics import accuracy_score, confusion_matrix, recall_score, precision_score, classification_report\n",
        "#from sklearn.naive_bayes import GaussianNB\n",
        "from sklearn.metrics import plot_confusion_matrix\n",
        "from imblearn.over_sampling import SMOTE \n",
        "#from sklearn.preprocessing import RobustScaler\n",
        "import pandas as pd\n",
        "from sklearn.preprocessing import LabelEncoder , MinMaxScaler\n",
        "import matplotlib.pyplot as plt\n",
        "import seaborn as sns \n",
        "from pyspark.sql import SparkSession\n",
        "from pyspark.sql.functions import sum,avg,max,count\n",
        "from pyspark.sql.functions import col, asc,desc\n",
        "import plotly.express as px\n",
        "import math   \n",
        "from sklearn.feature_selection import mutual_info_regression\n"
      ]
    },
    {
      "cell_type": "markdown",
      "source": [
        "Creating the spark session\n",
        "\n",
        "\n"
      ],
      "metadata": {
        "id": "sq4IuCxzwhvD"
      },
      "id": "sq4IuCxzwhvD"
    },
    {
      "cell_type": "code",
      "execution_count": 3,
      "id": "2dafa5ab",
      "metadata": {
        "colab": {
          "base_uri": "https://localhost:8080/",
          "height": 219
        },
        "id": "2dafa5ab",
        "outputId": "d48613b4-f2ee-4076-9ad3-c7e829856545"
      },
      "outputs": [
        {
          "output_type": "execute_result",
          "data": {
            "text/plain": [
              "<pyspark.sql.session.SparkSession at 0x7f0f320a3460>"
            ],
            "text/html": [
              "\n",
              "            <div>\n",
              "                <p><b>SparkSession - in-memory</b></p>\n",
              "                \n",
              "        <div>\n",
              "            <p><b>SparkContext</b></p>\n",
              "\n",
              "            <p><a href=\"http://4f2c6caa644c:4040\">Spark UI</a></p>\n",
              "\n",
              "            <dl>\n",
              "              <dt>Version</dt>\n",
              "                <dd><code>v3.3.1</code></dd>\n",
              "              <dt>Master</dt>\n",
              "                <dd><code>local[*]</code></dd>\n",
              "              <dt>AppName</dt>\n",
              "                <dd><code>pyspark-shell</code></dd>\n",
              "            </dl>\n",
              "        </div>\n",
              "        \n",
              "            </div>\n",
              "        "
            ]
          },
          "metadata": {},
          "execution_count": 3
        }
      ],
      "source": [
        "spark = SparkSession.builder.master(\"local[*]\").getOrCreate()\n",
        "spark.conf.set(\"spark.sql.repl.eagerEval.enabled\", True) # Property used to format output tables better\n",
        "spark"
      ]
    },
    {
      "cell_type": "code",
      "source": [
        "#present working directory"
      ],
      "metadata": {
        "id": "O6C7bcu5wm19"
      },
      "id": "O6C7bcu5wm19",
      "execution_count": 4,
      "outputs": []
    },
    {
      "cell_type": "code",
      "source": [
        "pwd"
      ],
      "metadata": {
        "colab": {
          "base_uri": "https://localhost:8080/",
          "height": 35
        },
        "id": "1CkxVfwn8uX8",
        "outputId": "bb1306dd-4a6f-4202-c10d-543c7563b0ab"
      },
      "id": "1CkxVfwn8uX8",
      "execution_count": 5,
      "outputs": [
        {
          "output_type": "execute_result",
          "data": {
            "text/plain": [
              "'/content'"
            ],
            "application/vnd.google.colaboratory.intrinsic+json": {
              "type": "string"
            }
          },
          "metadata": {},
          "execution_count": 5
        }
      ]
    },
    {
      "cell_type": "code",
      "execution_count": 6,
      "id": "c817b7e9",
      "metadata": {
        "colab": {
          "base_uri": "https://localhost:8080/"
        },
        "id": "c817b7e9",
        "outputId": "321be150-5e9d-46e2-f2cd-c05d1091a1bb"
      },
      "outputs": [
        {
          "output_type": "stream",
          "name": "stdout",
          "text": [
            "The columns are    ['age', 'workclass', 'fnlwgt', 'education', 'education-num', 'marital-status', 'occupation', 'relationship', 'race', 'sex', 'capital-gain', 'capital-loss', 'hours-per-week', 'native-country', 'salary']\n"
          ]
        }
      ],
      "source": [
        "sparkDF=spark.read.option(\"delimiter\", \",\").option(\"header\",True).option(\"inferSchema\",True).csv(\"salary.csv\")\n",
        "\n",
        "print(\"The columns are   \",sparkDF.columns)"
      ]
    },
    {
      "cell_type": "markdown",
      "source": [
        " \n",
        " *Printing all the unique rows*"
      ],
      "metadata": {
        "id": "y7RWorpD2-vB"
      },
      "id": "y7RWorpD2-vB"
    },
    {
      "cell_type": "code",
      "execution_count": 7,
      "id": "399eb313",
      "metadata": {
        "scrolled": true,
        "colab": {
          "base_uri": "https://localhost:8080/"
        },
        "id": "399eb313",
        "outputId": "070d2f10-e238-433b-ca1c-5d9572fbedc1"
      },
      "outputs": [
        {
          "output_type": "stream",
          "name": "stdout",
          "text": [
            "The count for each category in the attribute::: \n",
            "\n",
            "age\n",
            "+---+-------------+\n",
            "|age|count_of_each|\n",
            "+---+-------------+\n",
            "| 36|          898|\n",
            "| 31|          888|\n",
            "| 34|          886|\n",
            "| 23|          877|\n",
            "| 35|          876|\n",
            "| 33|          875|\n",
            "| 28|          867|\n",
            "| 30|          861|\n",
            "| 37|          858|\n",
            "| 25|          841|\n",
            "| 27|          835|\n",
            "| 32|          828|\n",
            "| 38|          827|\n",
            "| 39|          816|\n",
            "| 29|          813|\n",
            "| 41|          808|\n",
            "| 24|          798|\n",
            "| 40|          794|\n",
            "| 26|          785|\n",
            "| 42|          780|\n",
            "+---+-------------+\n",
            "only showing top 20 rows\n",
            "\n",
            "\n",
            "\n",
            "\n",
            "\n",
            "The count for each category in the attribute::: \n",
            "\n",
            "workclass\n",
            "+-----------------+-------------+\n",
            "|        workclass|count_of_each|\n",
            "+-----------------+-------------+\n",
            "|          Private|        22696|\n",
            "| Self-emp-not-inc|         2541|\n",
            "|        Local-gov|         2093|\n",
            "|                ?|         1836|\n",
            "|        State-gov|         1298|\n",
            "|     Self-emp-inc|         1116|\n",
            "|      Federal-gov|          960|\n",
            "|      Without-pay|           14|\n",
            "|     Never-worked|            7|\n",
            "+-----------------+-------------+\n",
            "\n",
            "\n",
            "\n",
            "\n",
            "\n",
            "The count for each category in the attribute::: \n",
            "\n",
            "fnlwgt\n",
            "+------+-------------+\n",
            "|fnlwgt|count_of_each|\n",
            "+------+-------------+\n",
            "|123011|           13|\n",
            "|203488|           13|\n",
            "|164190|           13|\n",
            "|148995|           12|\n",
            "|121124|           12|\n",
            "|113364|           12|\n",
            "|126675|           12|\n",
            "|123983|           11|\n",
            "|190290|           11|\n",
            "|241998|           11|\n",
            "|126569|           11|\n",
            "|111483|           11|\n",
            "|188246|           11|\n",
            "|102308|           11|\n",
            "|120277|           11|\n",
            "|120131|           11|\n",
            "|155659|           11|\n",
            "|125933|           10|\n",
            "|174789|           10|\n",
            "|155489|           10|\n",
            "+------+-------------+\n",
            "only showing top 20 rows\n",
            "\n",
            "\n",
            "\n",
            "\n",
            "\n",
            "The count for each category in the attribute::: \n",
            "\n",
            "education\n",
            "+-------------+-------------+\n",
            "|    education|count_of_each|\n",
            "+-------------+-------------+\n",
            "|      HS-grad|        10501|\n",
            "| Some-college|         7291|\n",
            "|    Bachelors|         5355|\n",
            "|      Masters|         1723|\n",
            "|    Assoc-voc|         1382|\n",
            "|         11th|         1175|\n",
            "|   Assoc-acdm|         1067|\n",
            "|         10th|          933|\n",
            "|      7th-8th|          646|\n",
            "|  Prof-school|          576|\n",
            "|          9th|          514|\n",
            "|         12th|          433|\n",
            "|    Doctorate|          413|\n",
            "|      5th-6th|          333|\n",
            "|      1st-4th|          168|\n",
            "|    Preschool|           51|\n",
            "+-------------+-------------+\n",
            "\n",
            "\n",
            "\n",
            "\n",
            "\n",
            "The count for each category in the attribute::: \n",
            "\n",
            "education-num\n",
            "+-------------+-------------+\n",
            "|education-num|count_of_each|\n",
            "+-------------+-------------+\n",
            "|            9|        10501|\n",
            "|           10|         7291|\n",
            "|           13|         5355|\n",
            "|           14|         1723|\n",
            "|           11|         1382|\n",
            "|            7|         1175|\n",
            "|           12|         1067|\n",
            "|            6|          933|\n",
            "|            4|          646|\n",
            "|           15|          576|\n",
            "|            5|          514|\n",
            "|            8|          433|\n",
            "|           16|          413|\n",
            "|            3|          333|\n",
            "|            2|          168|\n",
            "|            1|           51|\n",
            "+-------------+-------------+\n",
            "\n",
            "\n",
            "\n",
            "\n",
            "\n",
            "The count for each category in the attribute::: \n",
            "\n",
            "marital-status\n",
            "+--------------------+-------------+\n",
            "|      marital-status|count_of_each|\n",
            "+--------------------+-------------+\n",
            "|  Married-civ-spouse|        14976|\n",
            "|       Never-married|        10683|\n",
            "|            Divorced|         4443|\n",
            "|           Separated|         1025|\n",
            "|             Widowed|          993|\n",
            "| Married-spouse-a...|          418|\n",
            "|   Married-AF-spouse|           23|\n",
            "+--------------------+-------------+\n",
            "\n",
            "\n",
            "\n",
            "\n",
            "\n",
            "The count for each category in the attribute::: \n",
            "\n",
            "occupation\n",
            "+------------------+-------------+\n",
            "|        occupation|count_of_each|\n",
            "+------------------+-------------+\n",
            "|    Prof-specialty|         4140|\n",
            "|      Craft-repair|         4099|\n",
            "|   Exec-managerial|         4066|\n",
            "|      Adm-clerical|         3770|\n",
            "|             Sales|         3650|\n",
            "|     Other-service|         3295|\n",
            "| Machine-op-inspct|         2002|\n",
            "|                 ?|         1843|\n",
            "|  Transport-moving|         1597|\n",
            "| Handlers-cleaners|         1370|\n",
            "|   Farming-fishing|          994|\n",
            "|      Tech-support|          928|\n",
            "|   Protective-serv|          649|\n",
            "|   Priv-house-serv|          149|\n",
            "|      Armed-Forces|            9|\n",
            "+------------------+-------------+\n",
            "\n",
            "\n",
            "\n",
            "\n",
            "\n",
            "The count for each category in the attribute::: \n",
            "\n",
            "relationship\n",
            "+---------------+-------------+\n",
            "|   relationship|count_of_each|\n",
            "+---------------+-------------+\n",
            "|        Husband|        13193|\n",
            "|  Not-in-family|         8305|\n",
            "|      Own-child|         5068|\n",
            "|      Unmarried|         3446|\n",
            "|           Wife|         1568|\n",
            "| Other-relative|          981|\n",
            "+---------------+-------------+\n",
            "\n",
            "\n",
            "\n",
            "\n",
            "\n",
            "The count for each category in the attribute::: \n",
            "\n",
            "race\n",
            "+-------------------+-------------+\n",
            "|               race|count_of_each|\n",
            "+-------------------+-------------+\n",
            "|              White|        27816|\n",
            "|              Black|         3124|\n",
            "| Asian-Pac-Islander|         1039|\n",
            "| Amer-Indian-Eskimo|          311|\n",
            "|              Other|          271|\n",
            "+-------------------+-------------+\n",
            "\n",
            "\n",
            "\n",
            "\n",
            "\n",
            "The count for each category in the attribute::: \n",
            "\n",
            "sex\n",
            "+-------+-------------+\n",
            "|    sex|count_of_each|\n",
            "+-------+-------------+\n",
            "|   Male|        21790|\n",
            "| Female|        10771|\n",
            "+-------+-------------+\n",
            "\n",
            "\n",
            "\n",
            "\n",
            "\n",
            "The count for each category in the attribute::: \n",
            "\n",
            "capital-gain\n",
            "+------------+-------------+\n",
            "|capital-gain|count_of_each|\n",
            "+------------+-------------+\n",
            "|           0|        29849|\n",
            "|       15024|          347|\n",
            "|        7688|          284|\n",
            "|        7298|          246|\n",
            "|       99999|          159|\n",
            "|        3103|           97|\n",
            "|        5178|           97|\n",
            "|        4386|           70|\n",
            "|        5013|           69|\n",
            "|        8614|           55|\n",
            "|        3325|           53|\n",
            "|        2174|           48|\n",
            "|       10520|           43|\n",
            "|        4064|           42|\n",
            "|       14084|           41|\n",
            "|        4650|           41|\n",
            "|       20051|           37|\n",
            "|        3137|           37|\n",
            "|         594|           34|\n",
            "|       27828|           34|\n",
            "+------------+-------------+\n",
            "only showing top 20 rows\n",
            "\n",
            "\n",
            "\n",
            "\n",
            "\n",
            "The count for each category in the attribute::: \n",
            "\n",
            "capital-loss\n",
            "+------------+-------------+\n",
            "|capital-loss|count_of_each|\n",
            "+------------+-------------+\n",
            "|           0|        31042|\n",
            "|        1902|          202|\n",
            "|        1977|          168|\n",
            "|        1887|          159|\n",
            "|        1485|           51|\n",
            "|        1848|           51|\n",
            "|        2415|           49|\n",
            "|        1602|           47|\n",
            "|        1740|           42|\n",
            "|        1590|           40|\n",
            "|        1876|           39|\n",
            "|        1672|           34|\n",
            "|        1564|           25|\n",
            "|        2258|           25|\n",
            "|        2001|           24|\n",
            "|        1741|           24|\n",
            "|        1669|           24|\n",
            "|        1980|           23|\n",
            "|        1719|           22|\n",
            "|        1408|           21|\n",
            "+------------+-------------+\n",
            "only showing top 20 rows\n",
            "\n",
            "\n",
            "\n",
            "\n",
            "\n",
            "The count for each category in the attribute::: \n",
            "\n",
            "hours-per-week\n",
            "+--------------+-------------+\n",
            "|hours-per-week|count_of_each|\n",
            "+--------------+-------------+\n",
            "|            40|        15217|\n",
            "|            50|         2819|\n",
            "|            45|         1824|\n",
            "|            60|         1475|\n",
            "|            35|         1297|\n",
            "|            20|         1224|\n",
            "|            30|         1149|\n",
            "|            55|          694|\n",
            "|            25|          674|\n",
            "|            48|          517|\n",
            "|            38|          476|\n",
            "|            15|          404|\n",
            "|            70|          291|\n",
            "|            10|          278|\n",
            "|            32|          266|\n",
            "|            24|          252|\n",
            "|            65|          244|\n",
            "|            36|          220|\n",
            "|            42|          219|\n",
            "|            44|          212|\n",
            "+--------------+-------------+\n",
            "only showing top 20 rows\n",
            "\n",
            "\n",
            "\n",
            "\n",
            "\n",
            "The count for each category in the attribute::: \n",
            "\n",
            "native-country\n",
            "+-------------------+-------------+\n",
            "|     native-country|count_of_each|\n",
            "+-------------------+-------------+\n",
            "|      United-States|        29170|\n",
            "|             Mexico|          643|\n",
            "|                  ?|          583|\n",
            "|        Philippines|          198|\n",
            "|            Germany|          137|\n",
            "|             Canada|          121|\n",
            "|        Puerto-Rico|          114|\n",
            "|        El-Salvador|          106|\n",
            "|              India|          100|\n",
            "|               Cuba|           95|\n",
            "|            England|           90|\n",
            "|            Jamaica|           81|\n",
            "|              South|           80|\n",
            "|              China|           75|\n",
            "|              Italy|           73|\n",
            "| Dominican-Republic|           70|\n",
            "|            Vietnam|           67|\n",
            "|          Guatemala|           64|\n",
            "|              Japan|           62|\n",
            "|             Poland|           60|\n",
            "+-------------------+-------------+\n",
            "only showing top 20 rows\n",
            "\n",
            "\n",
            "\n",
            "\n",
            "\n",
            "The count for each category in the attribute::: \n",
            "\n",
            "salary\n",
            "+------+-------------+\n",
            "|salary|count_of_each|\n",
            "+------+-------------+\n",
            "| <=50K|        24720|\n",
            "|  >50K|         7841|\n",
            "+------+-------------+\n",
            "\n",
            "\n",
            "\n",
            "\n",
            "\n"
          ]
        }
      ],
      "source": [
        "for i in sparkDF.columns:\n",
        "    print(\"The count for each category in the attribute::: \\n\\n\"+i)\n",
        "    sparkDF.groupBy(i).agg(count(\"*\").alias(\"count_of_each\")).orderBy(col(\"count_of_each\").desc()).show()\n",
        "    print(\"\\n\\n\\n\")\n"
      ]
    },
    {
      "cell_type": "markdown",
      "source": [
        "*converting Spark dataframe to pandas Dataframe*"
      ],
      "metadata": {
        "id": "3YW7ioH03Mh5"
      },
      "id": "3YW7ioH03Mh5"
    },
    {
      "cell_type": "code",
      "execution_count": 8,
      "id": "6870faba",
      "metadata": {
        "colab": {
          "base_uri": "https://localhost:8080/"
        },
        "id": "6870faba",
        "outputId": "8e66f690-5ea7-46a1-95f3-4b29686407c2"
      },
      "outputs": [
        {
          "output_type": "execute_result",
          "data": {
            "text/plain": [
              "(32561, 15)"
            ]
          },
          "metadata": {},
          "execution_count": 8
        }
      ],
      "source": [
        "df=sparkDF.toPandas()\n",
        "df.shape\n"
      ]
    },
    {
      "cell_type": "markdown",
      "source": [
        "*Printing unique rows (pandas)*"
      ],
      "metadata": {
        "id": "cumZ1EKz3ffS"
      },
      "id": "cumZ1EKz3ffS"
    },
    {
      "cell_type": "code",
      "execution_count": 9,
      "id": "0239eddd",
      "metadata": {
        "colab": {
          "base_uri": "https://localhost:8080/"
        },
        "id": "0239eddd",
        "outputId": "ef476162-14a7-4615-e00d-a8ce632c6452"
      },
      "outputs": [
        {
          "output_type": "stream",
          "name": "stdout",
          "text": [
            "__age__*\n",
            "\n",
            "[39 50 38 53 28 37 49 52 31 42 30 23 32 40 34 25 43 54 35 59 56 19 20 45\n",
            " 22 48 21 24 57 44 41 29 18 47 46 36 79 27 67 33 76 17 55 61 70 64 71 68\n",
            " 66 51 58 26 60 90 75 65 77 62 63 80 72 74 69 73 81 78 88 82 83 84 85 86\n",
            " 87]\n",
            "\n",
            " ~~\n",
            "__workclass__*\n",
            "\n",
            "[' State-gov' ' Self-emp-not-inc' ' Private' ' Federal-gov' ' Local-gov'\n",
            " ' ?' ' Self-emp-inc' ' Without-pay' ' Never-worked']\n",
            "\n",
            " ~~\n",
            "__fnlwgt__*\n",
            "\n",
            "[ 77516  83311 215646 ...  34066  84661 257302]\n",
            "\n",
            " ~~\n",
            "__education__*\n",
            "\n",
            "[' Bachelors' ' HS-grad' ' 11th' ' Masters' ' 9th' ' Some-college'\n",
            " ' Assoc-acdm' ' Assoc-voc' ' 7th-8th' ' Doctorate' ' Prof-school'\n",
            " ' 5th-6th' ' 10th' ' 1st-4th' ' Preschool' ' 12th']\n",
            "\n",
            " ~~\n",
            "__education-num__*\n",
            "\n",
            "[13  9  7 14  5 10 12 11  4 16 15  3  6  2  1  8]\n",
            "\n",
            " ~~\n",
            "__marital-status__*\n",
            "\n",
            "[' Never-married' ' Married-civ-spouse' ' Divorced'\n",
            " ' Married-spouse-absent' ' Separated' ' Married-AF-spouse' ' Widowed']\n",
            "\n",
            " ~~\n",
            "__occupation__*\n",
            "\n",
            "[' Adm-clerical' ' Exec-managerial' ' Handlers-cleaners' ' Prof-specialty'\n",
            " ' Other-service' ' Sales' ' Craft-repair' ' Transport-moving'\n",
            " ' Farming-fishing' ' Machine-op-inspct' ' Tech-support' ' ?'\n",
            " ' Protective-serv' ' Armed-Forces' ' Priv-house-serv']\n",
            "\n",
            " ~~\n",
            "__relationship__*\n",
            "\n",
            "[' Not-in-family' ' Husband' ' Wife' ' Own-child' ' Unmarried'\n",
            " ' Other-relative']\n",
            "\n",
            " ~~\n",
            "__race__*\n",
            "\n",
            "[' White' ' Black' ' Asian-Pac-Islander' ' Amer-Indian-Eskimo' ' Other']\n",
            "\n",
            " ~~\n",
            "__sex__*\n",
            "\n",
            "[' Male' ' Female']\n",
            "\n",
            " ~~\n",
            "__capital-gain__*\n",
            "\n",
            "[ 2174     0 14084  5178  5013  2407 14344 15024  7688 34095  4064  4386\n",
            "  7298  1409  3674  1055  3464  2050  2176   594 20051  6849  4101  1111\n",
            "  8614  3411  2597 25236  4650  9386  2463  3103 10605  2964  3325  2580\n",
            "  3471  4865 99999  6514  1471  2329  2105  2885 25124 10520  2202  2961\n",
            " 27828  6767  2228  1506 13550  2635  5556  4787  3781  3137  3818  3942\n",
            "   914   401  2829  2977  4934  2062  2354  5455 15020  1424  3273 22040\n",
            "  4416  3908 10566   991  4931  1086  7430  6497   114  7896  2346  3418\n",
            "  3432  2907  1151  2414  2290 15831 41310  4508  2538  3456  6418  1848\n",
            "  3887  5721  9562  1455  2036  1831 11678  2936  2993  7443  6360  1797\n",
            "  1173  4687  6723  2009  6097  2653  1639 18481  7978  2387  5060]\n",
            "\n",
            " ~~\n",
            "__capital-loss__*\n",
            "\n",
            "[   0 2042 1408 1902 1573 1887 1719 1762 1564 2179 1816 1980 1977 1876\n",
            " 1340 2206 1741 1485 2339 2415 1380 1721 2051 2377 1669 2352 1672  653\n",
            " 2392 1504 2001 1590 1651 1628 1848 1740 2002 1579 2258 1602  419 2547\n",
            " 2174 2205 1726 2444 1138 2238  625  213 1539  880 1668 1092 1594 3004\n",
            " 2231 1844  810 2824 2559 2057 1974  974 2149 1825 1735 1258 2129 2603\n",
            " 2282  323 4356 2246 1617 1648 2489 3770 1755 3683 2267 2080 2457  155\n",
            " 3900 2201 1944 2467 2163 2754 2472 1411]\n",
            "\n",
            " ~~\n",
            "__hours-per-week__*\n",
            "\n",
            "[40 13 16 45 50 80 30 35 60 20 52 44 15 25 38 43 55 48 58 32 70  2 22 56\n",
            " 41 28 36 24 46 42 12 65  1 10 34 75 98 33 54  8  6 64 19 18 72  5  9 47\n",
            " 37 21 26 14  4 59  7 99 53 39 62 57 78 90 66 11 49 84  3 17 68 27 85 31\n",
            " 51 77 63 23 87 88 73 89 97 94 29 96 67 82 86 91 81 76 92 61 74 95]\n",
            "\n",
            " ~~\n",
            "__native-country__*\n",
            "\n",
            "[' United-States' ' Cuba' ' Jamaica' ' India' ' ?' ' Mexico' ' South'\n",
            " ' Puerto-Rico' ' Honduras' ' England' ' Canada' ' Germany' ' Iran'\n",
            " ' Philippines' ' Italy' ' Poland' ' Columbia' ' Cambodia' ' Thailand'\n",
            " ' Ecuador' ' Laos' ' Taiwan' ' Haiti' ' Portugal' ' Dominican-Republic'\n",
            " ' El-Salvador' ' France' ' Guatemala' ' China' ' Japan' ' Yugoslavia'\n",
            " ' Peru' ' Outlying-US(Guam-USVI-etc)' ' Scotland' ' Trinadad&Tobago'\n",
            " ' Greece' ' Nicaragua' ' Vietnam' ' Hong' ' Ireland' ' Hungary'\n",
            " ' Holand-Netherlands']\n",
            "\n",
            " ~~\n",
            "__salary__*\n",
            "\n",
            "[' <=50K' ' >50K']\n",
            "\n",
            " ~~\n"
          ]
        }
      ],
      "source": [
        "for col in df.columns.values:\n",
        "    print('__'+col+'__', end=\"*\\n\\n\")\n",
        "    print(df[col].unique(), end=\"\\n\\n ~~\\n\")"
      ]
    },
    {
      "cell_type": "markdown",
      "id": "440a5489",
      "metadata": {
        "id": "440a5489"
      },
      "source": [
        "# **Preprocessing**\n"
      ]
    },
    {
      "cell_type": "code",
      "execution_count": 10,
      "id": "cef3b2e5",
      "metadata": {
        "colab": {
          "base_uri": "https://localhost:8080/"
        },
        "id": "cef3b2e5",
        "outputId": "80522208-f60f-4cb4-8d6f-19b0c5d1ff20"
      },
      "outputs": [
        {
          "output_type": "execute_result",
          "data": {
            "text/plain": [
              "array([' <=50K', ' >50K'], dtype=object)"
            ]
          },
          "metadata": {},
          "execution_count": 10
        }
      ],
      "source": [
        "df.salary.unique()\n"
      ]
    },
    {
      "cell_type": "code",
      "execution_count": 11,
      "id": "1d90ba98",
      "metadata": {
        "scrolled": true,
        "colab": {
          "base_uri": "https://localhost:8080/"
        },
        "id": "1d90ba98",
        "outputId": "06bb96e8-9f06-4950-bfd3-bda44b2f6113"
      },
      "outputs": [
        {
          "output_type": "stream",
          "name": "stdout",
          "text": [
            "Before converting '?' to null- \n",
            "\n",
            " age               0\n",
            "workclass         0\n",
            "fnlwgt            0\n",
            "education         0\n",
            "education-num     0\n",
            "marital-status    0\n",
            "occupation        0\n",
            "relationship      0\n",
            "race              0\n",
            "sex               0\n",
            "capital-gain      0\n",
            "capital-loss      0\n",
            "hours-per-week    0\n",
            "native-country    0\n",
            "salary            0\n",
            "dtype: int64\n"
          ]
        }
      ],
      "source": [
        "## calculating null\n",
        "print(\"Before converting '?' to null- \\n\\n\",df.isnull().sum())\n",
        "df['workclass'] = df['workclass'].replace(' ?', np.nan)\n",
        "df['occupation'] = df['occupation'].replace(\" ?\", np.nan)\n",
        "df['native-country'] = df['native-country'].replace(\" ?\", np.nan)\n",
        "\n"
      ]
    },
    {
      "cell_type": "markdown",
      "source": [
        "---\n",
        "---\n",
        "Geting the most frequent workclass and most frequent occupation in that class\n",
        "\n",
        "\n",
        "\n",
        "\n"
      ],
      "metadata": {
        "id": "fn8SF-cM3xKa"
      },
      "id": "fn8SF-cM3xKa"
    },
    {
      "cell_type": "code",
      "execution_count": 12,
      "id": "53c44c51",
      "metadata": {
        "colab": {
          "base_uri": "https://localhost:8080/"
        },
        "id": "53c44c51",
        "outputId": "5c21f806-5385-4f0b-b274-337bd641bc6f"
      },
      "outputs": [
        {
          "output_type": "stream",
          "name": "stdout",
          "text": [
            "The most frequent workclass is  0     Private\n",
            "dtype: object\n",
            "Most frequent occupation in the workclass  0     Private\n",
            "dtype: object is  0     Craft-repair\n",
            "dtype: object\n"
          ]
        }
      ],
      "source": [
        "print(\"The most frequent workclass is \",df['workclass'].mode())\n",
        "temp = df['occupation'][df['workclass']==' Private']\n",
        "print(\"Most frequent occupation in the workclass \", df['workclass'].mode(), 'is ',temp.mode())\n",
        "\n"
      ]
    },
    {
      "cell_type": "markdown",
      "source": [
        "---\n",
        "---\n",
        " Imputing the null values with the most frequent "
      ],
      "metadata": {
        "id": "qFPDjn7b4i8Z"
      },
      "id": "qFPDjn7b4i8Z"
    },
    {
      "cell_type": "code",
      "execution_count": 13,
      "id": "6ae77adc",
      "metadata": {
        "colab": {
          "base_uri": "https://localhost:8080/"
        },
        "id": "6ae77adc",
        "outputId": "184073ef-1576-44b7-c07b-ca8e186e5c76"
      },
      "outputs": [
        {
          "output_type": "execute_result",
          "data": {
            "text/plain": [
              "0"
            ]
          },
          "metadata": {},
          "execution_count": 13
        }
      ],
      "source": [
        "\n",
        "df['workclass'].fillna(df['workclass'].mode()[0], inplace=True)\n",
        "df['workclass'].isnull().sum()\n",
        "df['occupation'].fillna(' Craft-repair', inplace=True)\n",
        "df['occupation'].isnull().sum()\n",
        "\n",
        "\n",
        "#most Frequent native-country\n",
        "df['native-country'].fillna(df['native-country'].mode()[0], inplace=True)\n",
        "df['native-country'].isnull().sum()\n"
      ]
    },
    {
      "cell_type": "code",
      "execution_count": 14,
      "id": "54623860",
      "metadata": {
        "scrolled": true,
        "colab": {
          "base_uri": "https://localhost:8080/"
        },
        "id": "54623860",
        "outputId": "93d4802b-f0e0-4d4a-fed6-49d281f50bd0"
      },
      "outputs": [
        {
          "output_type": "stream",
          "name": "stdout",
          "text": [
            "\n",
            "\n",
            "After converting '?' to null- \n",
            "\n",
            " age               0\n",
            "workclass         0\n",
            "fnlwgt            0\n",
            "education         0\n",
            "education-num     0\n",
            "marital-status    0\n",
            "occupation        0\n",
            "relationship      0\n",
            "race              0\n",
            "sex               0\n",
            "capital-gain      0\n",
            "capital-loss      0\n",
            "hours-per-week    0\n",
            "native-country    0\n",
            "salary            0\n",
            "dtype: int64\n"
          ]
        }
      ],
      "source": [
        "print(\"\\n\\nAfter converting '?' to null- \\n\\n\",df.isnull().sum())\n"
      ]
    },
    {
      "cell_type": "markdown",
      "source": [
        "---\n",
        "---\n",
        "\n",
        "\n",
        "\n",
        "*Deleting duplicate rows*"
      ],
      "metadata": {
        "id": "DDnQb5lM4vdd"
      },
      "id": "DDnQb5lM4vdd"
    },
    {
      "cell_type": "code",
      "execution_count": 15,
      "id": "e9795b41",
      "metadata": {
        "colab": {
          "base_uri": "https://localhost:8080/"
        },
        "id": "e9795b41",
        "outputId": "6eb500b3-80ce-40d3-c4c4-939aaac813bc"
      },
      "outputs": [
        {
          "output_type": "stream",
          "name": "stdout",
          "text": [
            "Total number of duplicate rows are  24\n"
          ]
        }
      ],
      "source": [
        "print(\"Total number of duplicate rows are \",df.duplicated().sum())\n",
        "df.drop_duplicates(keep='first',inplace=True)"
      ]
    },
    {
      "cell_type": "code",
      "execution_count": 16,
      "id": "52d17514",
      "metadata": {
        "colab": {
          "base_uri": "https://localhost:8080/"
        },
        "id": "52d17514",
        "outputId": "c77a7271-9fa8-4956-c113-7edbc5d3602f"
      },
      "outputs": [
        {
          "output_type": "execute_result",
          "data": {
            "text/plain": [
              "0"
            ]
          },
          "metadata": {},
          "execution_count": 16
        }
      ],
      "source": [
        "df.duplicated().sum()"
      ]
    },
    {
      "cell_type": "code",
      "execution_count": 17,
      "id": "e119d5cd",
      "metadata": {
        "colab": {
          "base_uri": "https://localhost:8080/",
          "height": 424
        },
        "id": "e119d5cd",
        "outputId": "162b516f-61fc-45e8-d1a1-07a28b37b88a"
      },
      "outputs": [
        {
          "output_type": "execute_result",
          "data": {
            "text/plain": [
              "       age          workclass  fnlwgt    education  education-num  \\\n",
              "0       39          State-gov   77516    Bachelors             13   \n",
              "1       50   Self-emp-not-inc   83311    Bachelors             13   \n",
              "2       38            Private  215646      HS-grad              9   \n",
              "3       53            Private  234721         11th              7   \n",
              "4       28            Private  338409    Bachelors             13   \n",
              "...    ...                ...     ...          ...            ...   \n",
              "32556   27            Private  257302   Assoc-acdm             12   \n",
              "32557   40            Private  154374      HS-grad              9   \n",
              "32558   58            Private  151910      HS-grad              9   \n",
              "32559   22            Private  201490      HS-grad              9   \n",
              "32560   52       Self-emp-inc  287927      HS-grad              9   \n",
              "\n",
              "            marital-status          occupation    relationship    race  \\\n",
              "0            Never-married        Adm-clerical   Not-in-family   White   \n",
              "1       Married-civ-spouse     Exec-managerial         Husband   White   \n",
              "2                 Divorced   Handlers-cleaners   Not-in-family   White   \n",
              "3       Married-civ-spouse   Handlers-cleaners         Husband   Black   \n",
              "4       Married-civ-spouse      Prof-specialty            Wife   Black   \n",
              "...                    ...                 ...             ...     ...   \n",
              "32556   Married-civ-spouse        Tech-support            Wife   White   \n",
              "32557   Married-civ-spouse   Machine-op-inspct         Husband   White   \n",
              "32558              Widowed        Adm-clerical       Unmarried   White   \n",
              "32559        Never-married        Adm-clerical       Own-child   White   \n",
              "32560   Married-civ-spouse     Exec-managerial            Wife   White   \n",
              "\n",
              "           sex  capital-gain  capital-loss  hours-per-week  native-country  \\\n",
              "0         Male          2174             0              40   United-States   \n",
              "1         Male             0             0              13   United-States   \n",
              "2         Male             0             0              40   United-States   \n",
              "3         Male             0             0              40   United-States   \n",
              "4       Female             0             0              40            Cuba   \n",
              "...        ...           ...           ...             ...             ...   \n",
              "32556   Female             0             0              38   United-States   \n",
              "32557     Male             0             0              40   United-States   \n",
              "32558   Female             0             0              40   United-States   \n",
              "32559     Male             0             0              20   United-States   \n",
              "32560   Female         15024             0              40   United-States   \n",
              "\n",
              "       salary  \n",
              "0       <=50K  \n",
              "1       <=50K  \n",
              "2       <=50K  \n",
              "3       <=50K  \n",
              "4       <=50K  \n",
              "...       ...  \n",
              "32556   <=50K  \n",
              "32557    >50K  \n",
              "32558   <=50K  \n",
              "32559   <=50K  \n",
              "32560    >50K  \n",
              "\n",
              "[32537 rows x 15 columns]"
            ],
            "text/html": [
              "\n",
              "  <div id=\"df-e781dd53-6801-4c44-96c1-0f2375f1ec97\">\n",
              "    <div class=\"colab-df-container\">\n",
              "      <div>\n",
              "<style scoped>\n",
              "    .dataframe tbody tr th:only-of-type {\n",
              "        vertical-align: middle;\n",
              "    }\n",
              "\n",
              "    .dataframe tbody tr th {\n",
              "        vertical-align: top;\n",
              "    }\n",
              "\n",
              "    .dataframe thead th {\n",
              "        text-align: right;\n",
              "    }\n",
              "</style>\n",
              "<table border=\"1\" class=\"dataframe\">\n",
              "  <thead>\n",
              "    <tr style=\"text-align: right;\">\n",
              "      <th></th>\n",
              "      <th>age</th>\n",
              "      <th>workclass</th>\n",
              "      <th>fnlwgt</th>\n",
              "      <th>education</th>\n",
              "      <th>education-num</th>\n",
              "      <th>marital-status</th>\n",
              "      <th>occupation</th>\n",
              "      <th>relationship</th>\n",
              "      <th>race</th>\n",
              "      <th>sex</th>\n",
              "      <th>capital-gain</th>\n",
              "      <th>capital-loss</th>\n",
              "      <th>hours-per-week</th>\n",
              "      <th>native-country</th>\n",
              "      <th>salary</th>\n",
              "    </tr>\n",
              "  </thead>\n",
              "  <tbody>\n",
              "    <tr>\n",
              "      <th>0</th>\n",
              "      <td>39</td>\n",
              "      <td>State-gov</td>\n",
              "      <td>77516</td>\n",
              "      <td>Bachelors</td>\n",
              "      <td>13</td>\n",
              "      <td>Never-married</td>\n",
              "      <td>Adm-clerical</td>\n",
              "      <td>Not-in-family</td>\n",
              "      <td>White</td>\n",
              "      <td>Male</td>\n",
              "      <td>2174</td>\n",
              "      <td>0</td>\n",
              "      <td>40</td>\n",
              "      <td>United-States</td>\n",
              "      <td>&lt;=50K</td>\n",
              "    </tr>\n",
              "    <tr>\n",
              "      <th>1</th>\n",
              "      <td>50</td>\n",
              "      <td>Self-emp-not-inc</td>\n",
              "      <td>83311</td>\n",
              "      <td>Bachelors</td>\n",
              "      <td>13</td>\n",
              "      <td>Married-civ-spouse</td>\n",
              "      <td>Exec-managerial</td>\n",
              "      <td>Husband</td>\n",
              "      <td>White</td>\n",
              "      <td>Male</td>\n",
              "      <td>0</td>\n",
              "      <td>0</td>\n",
              "      <td>13</td>\n",
              "      <td>United-States</td>\n",
              "      <td>&lt;=50K</td>\n",
              "    </tr>\n",
              "    <tr>\n",
              "      <th>2</th>\n",
              "      <td>38</td>\n",
              "      <td>Private</td>\n",
              "      <td>215646</td>\n",
              "      <td>HS-grad</td>\n",
              "      <td>9</td>\n",
              "      <td>Divorced</td>\n",
              "      <td>Handlers-cleaners</td>\n",
              "      <td>Not-in-family</td>\n",
              "      <td>White</td>\n",
              "      <td>Male</td>\n",
              "      <td>0</td>\n",
              "      <td>0</td>\n",
              "      <td>40</td>\n",
              "      <td>United-States</td>\n",
              "      <td>&lt;=50K</td>\n",
              "    </tr>\n",
              "    <tr>\n",
              "      <th>3</th>\n",
              "      <td>53</td>\n",
              "      <td>Private</td>\n",
              "      <td>234721</td>\n",
              "      <td>11th</td>\n",
              "      <td>7</td>\n",
              "      <td>Married-civ-spouse</td>\n",
              "      <td>Handlers-cleaners</td>\n",
              "      <td>Husband</td>\n",
              "      <td>Black</td>\n",
              "      <td>Male</td>\n",
              "      <td>0</td>\n",
              "      <td>0</td>\n",
              "      <td>40</td>\n",
              "      <td>United-States</td>\n",
              "      <td>&lt;=50K</td>\n",
              "    </tr>\n",
              "    <tr>\n",
              "      <th>4</th>\n",
              "      <td>28</td>\n",
              "      <td>Private</td>\n",
              "      <td>338409</td>\n",
              "      <td>Bachelors</td>\n",
              "      <td>13</td>\n",
              "      <td>Married-civ-spouse</td>\n",
              "      <td>Prof-specialty</td>\n",
              "      <td>Wife</td>\n",
              "      <td>Black</td>\n",
              "      <td>Female</td>\n",
              "      <td>0</td>\n",
              "      <td>0</td>\n",
              "      <td>40</td>\n",
              "      <td>Cuba</td>\n",
              "      <td>&lt;=50K</td>\n",
              "    </tr>\n",
              "    <tr>\n",
              "      <th>...</th>\n",
              "      <td>...</td>\n",
              "      <td>...</td>\n",
              "      <td>...</td>\n",
              "      <td>...</td>\n",
              "      <td>...</td>\n",
              "      <td>...</td>\n",
              "      <td>...</td>\n",
              "      <td>...</td>\n",
              "      <td>...</td>\n",
              "      <td>...</td>\n",
              "      <td>...</td>\n",
              "      <td>...</td>\n",
              "      <td>...</td>\n",
              "      <td>...</td>\n",
              "      <td>...</td>\n",
              "    </tr>\n",
              "    <tr>\n",
              "      <th>32556</th>\n",
              "      <td>27</td>\n",
              "      <td>Private</td>\n",
              "      <td>257302</td>\n",
              "      <td>Assoc-acdm</td>\n",
              "      <td>12</td>\n",
              "      <td>Married-civ-spouse</td>\n",
              "      <td>Tech-support</td>\n",
              "      <td>Wife</td>\n",
              "      <td>White</td>\n",
              "      <td>Female</td>\n",
              "      <td>0</td>\n",
              "      <td>0</td>\n",
              "      <td>38</td>\n",
              "      <td>United-States</td>\n",
              "      <td>&lt;=50K</td>\n",
              "    </tr>\n",
              "    <tr>\n",
              "      <th>32557</th>\n",
              "      <td>40</td>\n",
              "      <td>Private</td>\n",
              "      <td>154374</td>\n",
              "      <td>HS-grad</td>\n",
              "      <td>9</td>\n",
              "      <td>Married-civ-spouse</td>\n",
              "      <td>Machine-op-inspct</td>\n",
              "      <td>Husband</td>\n",
              "      <td>White</td>\n",
              "      <td>Male</td>\n",
              "      <td>0</td>\n",
              "      <td>0</td>\n",
              "      <td>40</td>\n",
              "      <td>United-States</td>\n",
              "      <td>&gt;50K</td>\n",
              "    </tr>\n",
              "    <tr>\n",
              "      <th>32558</th>\n",
              "      <td>58</td>\n",
              "      <td>Private</td>\n",
              "      <td>151910</td>\n",
              "      <td>HS-grad</td>\n",
              "      <td>9</td>\n",
              "      <td>Widowed</td>\n",
              "      <td>Adm-clerical</td>\n",
              "      <td>Unmarried</td>\n",
              "      <td>White</td>\n",
              "      <td>Female</td>\n",
              "      <td>0</td>\n",
              "      <td>0</td>\n",
              "      <td>40</td>\n",
              "      <td>United-States</td>\n",
              "      <td>&lt;=50K</td>\n",
              "    </tr>\n",
              "    <tr>\n",
              "      <th>32559</th>\n",
              "      <td>22</td>\n",
              "      <td>Private</td>\n",
              "      <td>201490</td>\n",
              "      <td>HS-grad</td>\n",
              "      <td>9</td>\n",
              "      <td>Never-married</td>\n",
              "      <td>Adm-clerical</td>\n",
              "      <td>Own-child</td>\n",
              "      <td>White</td>\n",
              "      <td>Male</td>\n",
              "      <td>0</td>\n",
              "      <td>0</td>\n",
              "      <td>20</td>\n",
              "      <td>United-States</td>\n",
              "      <td>&lt;=50K</td>\n",
              "    </tr>\n",
              "    <tr>\n",
              "      <th>32560</th>\n",
              "      <td>52</td>\n",
              "      <td>Self-emp-inc</td>\n",
              "      <td>287927</td>\n",
              "      <td>HS-grad</td>\n",
              "      <td>9</td>\n",
              "      <td>Married-civ-spouse</td>\n",
              "      <td>Exec-managerial</td>\n",
              "      <td>Wife</td>\n",
              "      <td>White</td>\n",
              "      <td>Female</td>\n",
              "      <td>15024</td>\n",
              "      <td>0</td>\n",
              "      <td>40</td>\n",
              "      <td>United-States</td>\n",
              "      <td>&gt;50K</td>\n",
              "    </tr>\n",
              "  </tbody>\n",
              "</table>\n",
              "<p>32537 rows × 15 columns</p>\n",
              "</div>\n",
              "      <button class=\"colab-df-convert\" onclick=\"convertToInteractive('df-e781dd53-6801-4c44-96c1-0f2375f1ec97')\"\n",
              "              title=\"Convert this dataframe to an interactive table.\"\n",
              "              style=\"display:none;\">\n",
              "        \n",
              "  <svg xmlns=\"http://www.w3.org/2000/svg\" height=\"24px\"viewBox=\"0 0 24 24\"\n",
              "       width=\"24px\">\n",
              "    <path d=\"M0 0h24v24H0V0z\" fill=\"none\"/>\n",
              "    <path d=\"M18.56 5.44l.94 2.06.94-2.06 2.06-.94-2.06-.94-.94-2.06-.94 2.06-2.06.94zm-11 1L8.5 8.5l.94-2.06 2.06-.94-2.06-.94L8.5 2.5l-.94 2.06-2.06.94zm10 10l.94 2.06.94-2.06 2.06-.94-2.06-.94-.94-2.06-.94 2.06-2.06.94z\"/><path d=\"M17.41 7.96l-1.37-1.37c-.4-.4-.92-.59-1.43-.59-.52 0-1.04.2-1.43.59L10.3 9.45l-7.72 7.72c-.78.78-.78 2.05 0 2.83L4 21.41c.39.39.9.59 1.41.59.51 0 1.02-.2 1.41-.59l7.78-7.78 2.81-2.81c.8-.78.8-2.07 0-2.86zM5.41 20L4 18.59l7.72-7.72 1.47 1.35L5.41 20z\"/>\n",
              "  </svg>\n",
              "      </button>\n",
              "      \n",
              "  <style>\n",
              "    .colab-df-container {\n",
              "      display:flex;\n",
              "      flex-wrap:wrap;\n",
              "      gap: 12px;\n",
              "    }\n",
              "\n",
              "    .colab-df-convert {\n",
              "      background-color: #E8F0FE;\n",
              "      border: none;\n",
              "      border-radius: 50%;\n",
              "      cursor: pointer;\n",
              "      display: none;\n",
              "      fill: #1967D2;\n",
              "      height: 32px;\n",
              "      padding: 0 0 0 0;\n",
              "      width: 32px;\n",
              "    }\n",
              "\n",
              "    .colab-df-convert:hover {\n",
              "      background-color: #E2EBFA;\n",
              "      box-shadow: 0px 1px 2px rgba(60, 64, 67, 0.3), 0px 1px 3px 1px rgba(60, 64, 67, 0.15);\n",
              "      fill: #174EA6;\n",
              "    }\n",
              "\n",
              "    [theme=dark] .colab-df-convert {\n",
              "      background-color: #3B4455;\n",
              "      fill: #D2E3FC;\n",
              "    }\n",
              "\n",
              "    [theme=dark] .colab-df-convert:hover {\n",
              "      background-color: #434B5C;\n",
              "      box-shadow: 0px 1px 3px 1px rgba(0, 0, 0, 0.15);\n",
              "      filter: drop-shadow(0px 1px 2px rgba(0, 0, 0, 0.3));\n",
              "      fill: #FFFFFF;\n",
              "    }\n",
              "  </style>\n",
              "\n",
              "      <script>\n",
              "        const buttonEl =\n",
              "          document.querySelector('#df-e781dd53-6801-4c44-96c1-0f2375f1ec97 button.colab-df-convert');\n",
              "        buttonEl.style.display =\n",
              "          google.colab.kernel.accessAllowed ? 'block' : 'none';\n",
              "\n",
              "        async function convertToInteractive(key) {\n",
              "          const element = document.querySelector('#df-e781dd53-6801-4c44-96c1-0f2375f1ec97');\n",
              "          const dataTable =\n",
              "            await google.colab.kernel.invokeFunction('convertToInteractive',\n",
              "                                                     [key], {});\n",
              "          if (!dataTable) return;\n",
              "\n",
              "          const docLinkHtml = 'Like what you see? Visit the ' +\n",
              "            '<a target=\"_blank\" href=https://colab.research.google.com/notebooks/data_table.ipynb>data table notebook</a>'\n",
              "            + ' to learn more about interactive tables.';\n",
              "          element.innerHTML = '';\n",
              "          dataTable['output_type'] = 'display_data';\n",
              "          await google.colab.output.renderOutput(dataTable, element);\n",
              "          const docLink = document.createElement('div');\n",
              "          docLink.innerHTML = docLinkHtml;\n",
              "          element.appendChild(docLink);\n",
              "        }\n",
              "      </script>\n",
              "    </div>\n",
              "  </div>\n",
              "  "
            ]
          },
          "metadata": {},
          "execution_count": 17
        }
      ],
      "source": [
        "df"
      ]
    },
    {
      "cell_type": "markdown",
      "id": "0395cc24",
      "metadata": {
        "id": "0395cc24"
      },
      "source": [
        "# **Exploratory data analysis**"
      ]
    },
    {
      "cell_type": "markdown",
      "source": [
        "---\n",
        "---\n",
        "\n",
        "\n",
        "\n",
        "*AGE Distribution*"
      ],
      "metadata": {
        "id": "wjd1tiFw5pgI"
      },
      "id": "wjd1tiFw5pgI"
    },
    {
      "cell_type": "code",
      "execution_count": 18,
      "id": "87587177",
      "metadata": {
        "colab": {
          "base_uri": "https://localhost:8080/",
          "height": 314
        },
        "id": "87587177",
        "outputId": "b47ee0f4-059c-44a0-d3f8-19c9480d01c0"
      },
      "outputs": [
        {
          "output_type": "execute_result",
          "data": {
            "text/plain": [
              "<seaborn.axisgrid.FacetGrid at 0x7f0f31615f10>"
            ]
          },
          "metadata": {},
          "execution_count": 18
        },
        {
          "output_type": "display_data",
          "data": {
            "text/plain": [
              "<Figure size 938.875x288 with 1 Axes>"
            ],
            "image/png": "[encoded data removed]"
          },
          "metadata": {
            "needs_background": "light"
          }
        }
      ],
      "source": [
        "sns.displot(data=df, x=\"age\", hue=\"salary\", kind=\"kde\", height=4, aspect=3)"
      ]
    },
    {
      "cell_type": "markdown",
      "source": [
        "---\n",
        "---\n",
        "\n",
        "\n",
        "\n",
        "*hours-per-week distribution for the two classes of salary*"
      ],
      "metadata": {
        "id": "Z3zV5YU953eZ"
      },
      "id": "Z3zV5YU953eZ"
    },
    {
      "cell_type": "code",
      "execution_count": 19,
      "id": "e3a14a10",
      "metadata": {
        "scrolled": true,
        "colab": {
          "base_uri": "https://localhost:8080/",
          "height": 314
        },
        "id": "e3a14a10",
        "outputId": "43749847-18df-420b-97fa-d879d4aaf2db"
      },
      "outputs": [
        {
          "output_type": "execute_result",
          "data": {
            "text/plain": [
              "<seaborn.axisgrid.FacetGrid at 0x7f0f30cfbdf0>"
            ]
          },
          "metadata": {},
          "execution_count": 19
        },
        {
          "output_type": "display_data",
          "data": {
            "text/plain": [
              "<Figure size 938.875x288 with 1 Axes>"
            ],
            "image/png": "[encoded data removed]"
          },
          "metadata": {
            "needs_background": "light"
          }
        }
      ],
      "source": [
        "sns.displot(data=df, x=\"hours-per-week\", hue=\"salary\", kind=\"kde\", height=4, aspect=3)"
      ]
    },
    {
      "cell_type": "markdown",
      "source": [
        "---\n",
        "---"
      ],
      "metadata": {
        "id": "xesoL7867hIE"
      },
      "id": "xesoL7867hIE"
    },
    {
      "cell_type": "markdown",
      "source": [],
      "metadata": {
        "id": "LLchkk0T7GsI"
      },
      "id": "LLchkk0T7GsI"
    },
    {
      "cell_type": "code",
      "execution_count": 20,
      "id": "3bdc2970",
      "metadata": {
        "scrolled": true,
        "colab": {
          "base_uri": "https://localhost:8080/",
          "height": 314
        },
        "id": "3bdc2970",
        "outputId": "37a32a61-8a24-4398-9fbc-880cce296ba2"
      },
      "outputs": [
        {
          "output_type": "execute_result",
          "data": {
            "text/plain": [
              "<seaborn.axisgrid.FacetGrid at 0x7f0f31507760>"
            ]
          },
          "metadata": {},
          "execution_count": 20
        },
        {
          "output_type": "display_data",
          "data": {
            "text/plain": [
              "<Figure size 650.875x288 with 1 Axes>"
            ],
            "image/png": "[encoded data removed]"
          },
          "metadata": {
            "needs_background": "light"
          }
        }
      ],
      "source": [
        "sns.displot(data=df, x=\"fnlwgt\", hue=\"salary\", kind=\"kde\", height=4, aspect=2)"
      ]
    },
    {
      "cell_type": "markdown",
      "id": "bda890e6",
      "metadata": {
        "id": "bda890e6"
      },
      "source": [
        "We understand that the final weight(number of people the census believes the entry represents) has a skewed data. We would be using oversampling"
      ]
    },
    {
      "cell_type": "markdown",
      "source": [
        "---\n",
        "---\n",
        "\n",
        "*Workclass Distribution*\n",
        "\n"
      ],
      "metadata": {
        "id": "qy1pLBWh7pIB"
      },
      "id": "qy1pLBWh7pIB"
    },
    {
      "cell_type": "code",
      "execution_count": 21,
      "id": "9b8bd593",
      "metadata": {
        "scrolled": true,
        "colab": {
          "base_uri": "https://localhost:8080/",
          "height": 369
        },
        "id": "9b8bd593",
        "outputId": "d6cfc00c-11d6-4ceb-c172-47168dde1412"
      },
      "outputs": [
        {
          "output_type": "display_data",
          "data": {
            "text/plain": [
              "<Figure size 936x360 with 1 Axes>"
            ],
            "image/png": "[encoded data removed]"
          },
          "metadata": {
            "needs_background": "light"
          }
        }
      ],
      "source": [
        "plt.figure(figsize=(13,5))\n",
        "df.workclass.value_counts().plot(kind=\"bar\", color=\"blue\")\n",
        "plt.xlabel(\"Workclass\")\n",
        "plt.tight_layout()\n",
        "plt.show()"
      ]
    },
    {
      "cell_type": "markdown",
      "source": [
        "---\n",
        "---\n",
        "Comparing education vs Education-num"
      ],
      "metadata": {
        "id": "KLjn-vOt77Kc"
      },
      "id": "KLjn-vOt77Kc"
    },
    {
      "cell_type": "code",
      "execution_count": 22,
      "id": "fe64b091",
      "metadata": {
        "scrolled": true,
        "colab": {
          "base_uri": "https://localhost:8080/",
          "height": 340
        },
        "id": "fe64b091",
        "outputId": "4e3f4a02-1878-4411-a775-4d9e84daee81"
      },
      "outputs": [
        {
          "output_type": "display_data",
          "data": {
            "text/plain": [
              "<Figure size 936x288 with 1 Axes>"
            ],
            "image/png": "[encoded data removed]"
          },
          "metadata": {
            "needs_background": "light"
          }
        }
      ],
      "source": [
        "\n",
        "plt.figure(figsize=(13,4))\n",
        "df['education'].value_counts().plot(kind='bar', color = \"grey\")\n",
        "plt.xlabel(\"Education\")\n",
        "plt.show()\n"
      ]
    },
    {
      "cell_type": "code",
      "execution_count": 23,
      "id": "debc7bef",
      "metadata": {
        "colab": {
          "base_uri": "https://localhost:8080/",
          "height": 282
        },
        "id": "debc7bef",
        "outputId": "1fa17df3-bc22-45df-b241-01185e098c09"
      },
      "outputs": [
        {
          "output_type": "display_data",
          "data": {
            "text/plain": [
              "<Figure size 936x288 with 1 Axes>"
            ],
            "image/png": "[encoded data removed]"
          },
          "metadata": {
            "needs_background": "light"
          }
        }
      ],
      "source": [
        "\n",
        "plt.figure(figsize=(13,4))\n",
        "df['education-num'].value_counts().plot(kind='bar', color = \"pink\")\n",
        "plt.xlabel(\"Education-num\")\n",
        "plt.show()"
      ]
    },
    {
      "cell_type": "markdown",
      "id": "16a4d7bd",
      "metadata": {
        "id": "16a4d7bd"
      },
      "source": [
        "We understand that both education and education-num are the same. Education-num is a higher for a higher educated person. So we dont have to convert education into categorical data using labelEncoding. We can use education-num directly and drop education."
      ]
    },
    {
      "cell_type": "markdown",
      "source": [
        "---\n",
        "---\n",
        "*Distribution education-num *"
      ],
      "metadata": {
        "id": "twzIbq2Z8IC7"
      },
      "id": "twzIbq2Z8IC7"
    },
    {
      "cell_type": "code",
      "execution_count": 24,
      "id": "5b916ae0",
      "metadata": {
        "colab": {
          "base_uri": "https://localhost:8080/",
          "height": 494
        },
        "id": "5b916ae0",
        "outputId": "c820b948-d3c8-40b8-dab7-35180698ee3b"
      },
      "outputs": [
        {
          "output_type": "execute_result",
          "data": {
            "text/plain": [
              "<seaborn.axisgrid.FacetGrid at 0x7f0f3145b190>"
            ]
          },
          "metadata": {},
          "execution_count": 24
        },
        {
          "output_type": "display_data",
          "data": {
            "text/plain": [
              "<Figure size 1478.88x468 with 1 Axes>"
            ],
            "image/png": "[encoded data removed]"
          },
          "metadata": {
            "needs_background": "light"
          }
        }
      ],
      "source": [
        "sns.displot(data=df, x=\"education-num\", hue=\"salary\", kind=\"kde\", height=6.5, aspect=3)"
      ]
    },
    {
      "cell_type": "markdown",
      "source": [
        "---\n",
        "---\n",
        "Total distribution of education-num "
      ],
      "metadata": {
        "id": "lwtdnujC8lQ7"
      },
      "id": "lwtdnujC8lQ7"
    },
    {
      "cell_type": "code",
      "execution_count": 25,
      "id": "aff1463b",
      "metadata": {
        "scrolled": true,
        "colab": {
          "base_uri": "https://localhost:8080/",
          "height": 296
        },
        "id": "aff1463b",
        "outputId": "dd8092eb-8bec-41db-879e-7938a9967756"
      },
      "outputs": [
        {
          "output_type": "execute_result",
          "data": {
            "text/plain": [
              "<matplotlib.axes._subplots.AxesSubplot at 0x7f0f3089a7f0>"
            ]
          },
          "metadata": {},
          "execution_count": 25
        },
        {
          "output_type": "display_data",
          "data": {
            "text/plain": [
              "<Figure size 432x288 with 1 Axes>"
            ],
            "image/png": "[encoded data removed]"
          },
          "metadata": {
            "needs_background": "light"
          }
        }
      ],
      "source": [
        "sns.histplot(data=df, x=\"education-num\")"
      ]
    },
    {
      "cell_type": "markdown",
      "source": [
        "---\n",
        "---\n",
        "Function for the getting percentage distribution for different categories"
      ],
      "metadata": {
        "id": "JCUYV7Kv8yQd"
      },
      "id": "JCUYV7Kv8yQd"
    },
    {
      "cell_type": "code",
      "execution_count": 26,
      "id": "6e6ca407",
      "metadata": {
        "id": "6e6ca407"
      },
      "outputs": [],
      "source": [
        "def getBarPercent (plot, feature):\n",
        "    total = len(feature)\n",
        "    for p in ax.patches:\n",
        "        percentage = '{:.0f}%'.format(100 * p.get_height()/total)\n",
        "        x = p.get_x() + p.get_width() / 2 - 0.05\n",
        "        y = p.get_y() + p.get_height()\n",
        "        ax.annotate(percentage, (x, y), size = 12)\n",
        "    plt.show()"
      ]
    },
    {
      "cell_type": "code",
      "execution_count": 27,
      "id": "19f4ff81",
      "metadata": {
        "scrolled": false,
        "colab": {
          "base_uri": "https://localhost:8080/",
          "height": 295
        },
        "id": "19f4ff81",
        "outputId": "202be372-1b11-464e-a4d2-05b2577df48b"
      },
      "outputs": [
        {
          "output_type": "display_data",
          "data": {
            "text/plain": [
              "<Figure size 432x288 with 1 Axes>"
            ],
            "image/png": "[encoded data removed]"
          },
          "metadata": {
            "needs_background": "light"
          }
        }
      ],
      "source": [
        "plt.figure(figsize=(6,4))\n",
        "ax = sns.countplot( x=df.salary , data= df , palette='viridis')\n",
        "ax.set_title('Salaries ratio for all persons')\n",
        "getBarPercent(ax , df.salary)"
      ]
    },
    {
      "cell_type": "markdown",
      "id": "3e3ce40d",
      "metadata": {
        "id": "3e3ce40d"
      },
      "source": [
        "We would have to handle this unbalanced Data"
      ]
    },
    {
      "cell_type": "markdown",
      "source": [
        "---\n",
        "---\n",
        "*Male vs Female distribution of salary*"
      ],
      "metadata": {
        "id": "UzwCcA7U9k9k"
      },
      "id": "UzwCcA7U9k9k"
    },
    {
      "cell_type": "code",
      "execution_count": 28,
      "id": "cc2623c7",
      "metadata": {
        "colab": {
          "base_uri": "https://localhost:8080/",
          "height": 258
        },
        "id": "cc2623c7",
        "outputId": "7ec9d4da-99e0-4d93-f833-b7827ae7ce5a"
      },
      "outputs": [
        {
          "output_type": "execute_result",
          "data": {
            "text/plain": [
              "Text(0.5, 1.0, 'Salaries ratio for Male/Female')"
            ]
          },
          "metadata": {},
          "execution_count": 28
        },
        {
          "output_type": "display_data",
          "data": {
            "text/plain": [
              "<Figure size 360x216 with 1 Axes>"
            ],
            "image/png": "[encoded data removed]"
          },
          "metadata": {
            "needs_background": "light"
          }
        }
      ],
      "source": [
        "plt.figure(figsize=(5,3))\n",
        "sns.countplot(data=df, x='sex', hue='salary', palette='viridis').set_title('Salaries ratio for Male/Female')"
      ]
    },
    {
      "cell_type": "markdown",
      "source": [
        "---\n",
        "---\n",
        "*Distribution of salaries for different  for races"
      ],
      "metadata": {
        "id": "i7BI69fs9w3w"
      },
      "id": "i7BI69fs9w3w"
    },
    {
      "cell_type": "code",
      "execution_count": 29,
      "id": "8c65cf07",
      "metadata": {
        "scrolled": true,
        "colab": {
          "base_uri": "https://localhost:8080/",
          "height": 367
        },
        "id": "8c65cf07",
        "outputId": "dcbc06ee-9040-4058-d89a-a9a66c174777"
      },
      "outputs": [
        {
          "output_type": "execute_result",
          "data": {
            "text/plain": [
              "Text(0.5, 1.0, 'Race VS Salary')"
            ]
          },
          "metadata": {},
          "execution_count": 29
        },
        {
          "output_type": "display_data",
          "data": {
            "text/plain": [
              "<Figure size 1008x360 with 1 Axes>"
            ],
            "image/png": "[encoded data removed]"
          },
          "metadata": {
            "needs_background": "light"
          }
        }
      ],
      "source": [
        "\n",
        "plt.figure(figsize=(14, 5))\n",
        "ax = sns.countplot(data=df,y='race', hue='salary')\n",
        "sns.set_palette('Accent_r')\n",
        "ax.set_title('Race VS Salary')"
      ]
    },
    {
      "cell_type": "markdown",
      "id": "fda8284e",
      "metadata": {
        "id": "fda8284e"
      },
      "source": [
        "We can see that the total data is from race of white in general. Our results might be skewed if we use race for the machine learning."
      ]
    },
    {
      "cell_type": "code",
      "execution_count": 30,
      "id": "1179074f",
      "metadata": {
        "colab": {
          "base_uri": "https://localhost:8080/"
        },
        "id": "1179074f",
        "outputId": "5c9c8bc3-0741-46c4-d80d-c9ac3089566c"
      },
      "outputs": [
        {
          "output_type": "execute_result",
          "data": {
            "text/plain": [
              "Index(['age', 'workclass', 'fnlwgt', 'education', 'education-num',\n",
              "       'marital-status', 'occupation', 'relationship', 'race', 'sex',\n",
              "       'capital-gain', 'capital-loss', 'hours-per-week', 'native-country',\n",
              "       'salary'],\n",
              "      dtype='object')"
            ]
          },
          "metadata": {},
          "execution_count": 30
        }
      ],
      "source": [
        "df.columns"
      ]
    },
    {
      "cell_type": "markdown",
      "source": [
        "---\n",
        "---\n",
        "*Bar plot for various Workclasses in the 2 salary cateogories*"
      ],
      "metadata": {
        "id": "Zvb16ZjD-JdP"
      },
      "id": "Zvb16ZjD-JdP"
    },
    {
      "cell_type": "code",
      "execution_count": 31,
      "id": "55f64ee5",
      "metadata": {
        "scrolled": false,
        "colab": {
          "base_uri": "https://localhost:8080/",
          "height": 387
        },
        "id": "55f64ee5",
        "outputId": "6501f8dd-d43d-4fdb-f3eb-edb94d4a11ed"
      },
      "outputs": [
        {
          "output_type": "execute_result",
          "data": {
            "text/plain": [
              "Text(0.5, 1.0, 'Salaries ratio for Occupation')"
            ]
          },
          "metadata": {},
          "execution_count": 31
        },
        {
          "output_type": "display_data",
          "data": {
            "text/plain": [
              "<Figure size 2160x432 with 1 Axes>"
            ],
            "image/png": "[encoded data removed]"
          },
          "metadata": {
            "needs_background": "light"
          }
        }
      ],
      "source": [
        "plt.figure(figsize=(30,6))\n",
        "sns.countplot(data=df, x='workclass', hue='salary' ).set_title('Salaries ratio for Occupation')"
      ]
    },
    {
      "cell_type": "markdown",
      "source": [
        "---\n",
        "---\n",
        "*Bar plot for various occupations in the 2 salary cateogories*"
      ],
      "metadata": {
        "id": "8wfZxfzN-TRn"
      },
      "id": "8wfZxfzN-TRn"
    },
    {
      "cell_type": "code",
      "execution_count": 32,
      "id": "79f1a5b3",
      "metadata": {
        "colab": {
          "base_uri": "https://localhost:8080/",
          "height": 388
        },
        "id": "79f1a5b3",
        "outputId": "92d4b390-fd8c-4cf4-d66c-acb1ab25b661"
      },
      "outputs": [
        {
          "output_type": "execute_result",
          "data": {
            "text/plain": [
              "Text(0.5, 1.0, 'Salaries ratio for Occupation')"
            ]
          },
          "metadata": {},
          "execution_count": 32
        },
        {
          "output_type": "display_data",
          "data": {
            "text/plain": [
              "<Figure size 2160x432 with 1 Axes>"
            ],
            "image/png": "[encoded data removed]"
          },
          "metadata": {
            "needs_background": "light"
          }
        }
      ],
      "source": [
        "plt.figure(figsize=(30,6))\n",
        "sns.countplot(data=df, x='occupation', hue='salary' ).set_title('Salaries ratio for Occupation')"
      ]
    },
    {
      "cell_type": "markdown",
      "id": "06b5ce3c",
      "metadata": {
        "id": "06b5ce3c"
      },
      "source": [
        "we see that some occupations have salary less than 50k for majority of the peoplecraft-repair, adm-clerical). Some have an equal distribution of more and less than 50k salaried people like exec-managerial and prof-speciality.\n"
      ]
    },
    {
      "cell_type": "markdown",
      "source": [
        "---\n",
        "---\n",
        "*Bar plot for various relationship in the 2 salary cateogories*"
      ],
      "metadata": {
        "id": "I40vlgvbAJzm"
      },
      "id": "I40vlgvbAJzm"
    },
    {
      "cell_type": "code",
      "execution_count": 33,
      "id": "97e14c58",
      "metadata": {
        "scrolled": true,
        "colab": {
          "base_uri": "https://localhost:8080/",
          "height": 421
        },
        "id": "97e14c58",
        "outputId": "b72902d8-13c4-4f6f-8d73-ed4f423c436f"
      },
      "outputs": [
        {
          "output_type": "execute_result",
          "data": {
            "text/plain": [
              "Text(0.5, 1.0, 'Salaries ratio for Occupation')"
            ]
          },
          "metadata": {},
          "execution_count": 33
        },
        {
          "output_type": "display_data",
          "data": {
            "text/plain": [
              "<Figure size 864x432 with 1 Axes>"
            ],
            "image/png": "[encoded data removed]"
          },
          "metadata": {
            "needs_background": "light"
          }
        }
      ],
      "source": [
        "plt.figure(figsize=(12,6))\n",
        "sns.countplot(data=df, x='relationship', hue='salary' ).set_title('Salaries ratio for Occupation')"
      ]
    },
    {
      "cell_type": "markdown",
      "source": [
        "Since the Husband/wife is having more equal distribution of salary, we will be moving that into label encoding value 1 and all the others as 0."
      ],
      "metadata": {
        "id": "g-I7j7UPASYt"
      },
      "id": "g-I7j7UPASYt"
    },
    {
      "cell_type": "code",
      "execution_count": 34,
      "id": "16bd4fcc",
      "metadata": {
        "id": "16bd4fcc"
      },
      "outputs": [],
      "source": [
        "df_cleaned=df"
      ]
    },
    {
      "cell_type": "code",
      "execution_count": 35,
      "id": "b5f856bd",
      "metadata": {
        "colab": {
          "base_uri": "https://localhost:8080/",
          "height": 424
        },
        "id": "b5f856bd",
        "outputId": "b338127f-8513-4b91-cee3-eb1bc2950de0"
      },
      "outputs": [
        {
          "output_type": "execute_result",
          "data": {
            "text/plain": [
              "       age          workclass  fnlwgt    education  education-num  \\\n",
              "0       39          State-gov   77516    Bachelors             13   \n",
              "1       50   Self-emp-not-inc   83311    Bachelors             13   \n",
              "2       38            Private  215646      HS-grad              9   \n",
              "3       53            Private  234721         11th              7   \n",
              "4       28            Private  338409    Bachelors             13   \n",
              "...    ...                ...     ...          ...            ...   \n",
              "32556   27            Private  257302   Assoc-acdm             12   \n",
              "32557   40            Private  154374      HS-grad              9   \n",
              "32558   58            Private  151910      HS-grad              9   \n",
              "32559   22            Private  201490      HS-grad              9   \n",
              "32560   52       Self-emp-inc  287927      HS-grad              9   \n",
              "\n",
              "            marital-status          occupation    relationship    race  \\\n",
              "0            Never-married        Adm-clerical   Not-in-family   White   \n",
              "1       Married-civ-spouse     Exec-managerial         Husband   White   \n",
              "2                 Divorced   Handlers-cleaners   Not-in-family   White   \n",
              "3       Married-civ-spouse   Handlers-cleaners         Husband   Black   \n",
              "4       Married-civ-spouse      Prof-specialty            Wife   Black   \n",
              "...                    ...                 ...             ...     ...   \n",
              "32556   Married-civ-spouse        Tech-support            Wife   White   \n",
              "32557   Married-civ-spouse   Machine-op-inspct         Husband   White   \n",
              "32558              Widowed        Adm-clerical       Unmarried   White   \n",
              "32559        Never-married        Adm-clerical       Own-child   White   \n",
              "32560   Married-civ-spouse     Exec-managerial            Wife   White   \n",
              "\n",
              "           sex  capital-gain  capital-loss  hours-per-week  native-country  \\\n",
              "0         Male          2174             0              40   United-States   \n",
              "1         Male             0             0              13   United-States   \n",
              "2         Male             0             0              40   United-States   \n",
              "3         Male             0             0              40   United-States   \n",
              "4       Female             0             0              40            Cuba   \n",
              "...        ...           ...           ...             ...             ...   \n",
              "32556   Female             0             0              38   United-States   \n",
              "32557     Male             0             0              40   United-States   \n",
              "32558   Female             0             0              40   United-States   \n",
              "32559     Male             0             0              20   United-States   \n",
              "32560   Female         15024             0              40   United-States   \n",
              "\n",
              "       salary  \n",
              "0       <=50K  \n",
              "1       <=50K  \n",
              "2       <=50K  \n",
              "3       <=50K  \n",
              "4       <=50K  \n",
              "...       ...  \n",
              "32556   <=50K  \n",
              "32557    >50K  \n",
              "32558   <=50K  \n",
              "32559   <=50K  \n",
              "32560    >50K  \n",
              "\n",
              "[32537 rows x 15 columns]"
            ],
            "text/html": [
              "\n",
              "  <div id=\"df-d0c8d009-1486-481a-acfe-79bf7fe54714\">\n",
              "    <div class=\"colab-df-container\">\n",
              "      <div>\n",
              "<style scoped>\n",
              "    .dataframe tbody tr th:only-of-type {\n",
              "        vertical-align: middle;\n",
              "    }\n",
              "\n",
              "    .dataframe tbody tr th {\n",
              "        vertical-align: top;\n",
              "    }\n",
              "\n",
              "    .dataframe thead th {\n",
              "        text-align: right;\n",
              "    }\n",
              "</style>\n",
              "<table border=\"1\" class=\"dataframe\">\n",
              "  <thead>\n",
              "    <tr style=\"text-align: right;\">\n",
              "      <th></th>\n",
              "      <th>age</th>\n",
              "      <th>workclass</th>\n",
              "      <th>fnlwgt</th>\n",
              "      <th>education</th>\n",
              "      <th>education-num</th>\n",
              "      <th>marital-status</th>\n",
              "      <th>occupation</th>\n",
              "      <th>relationship</th>\n",
              "      <th>race</th>\n",
              "      <th>sex</th>\n",
              "      <th>capital-gain</th>\n",
              "      <th>capital-loss</th>\n",
              "      <th>hours-per-week</th>\n",
              "      <th>native-country</th>\n",
              "      <th>salary</th>\n",
              "    </tr>\n",
              "  </thead>\n",
              "  <tbody>\n",
              "    <tr>\n",
              "      <th>0</th>\n",
              "      <td>39</td>\n",
              "      <td>State-gov</td>\n",
              "      <td>77516</td>\n",
              "      <td>Bachelors</td>\n",
              "      <td>13</td>\n",
              "      <td>Never-married</td>\n",
              "      <td>Adm-clerical</td>\n",
              "      <td>Not-in-family</td>\n",
              "      <td>White</td>\n",
              "      <td>Male</td>\n",
              "      <td>2174</td>\n",
              "      <td>0</td>\n",
              "      <td>40</td>\n",
              "      <td>United-States</td>\n",
              "      <td>&lt;=50K</td>\n",
              "    </tr>\n",
              "    <tr>\n",
              "      <th>1</th>\n",
              "      <td>50</td>\n",
              "      <td>Self-emp-not-inc</td>\n",
              "      <td>83311</td>\n",
              "      <td>Bachelors</td>\n",
              "      <td>13</td>\n",
              "      <td>Married-civ-spouse</td>\n",
              "      <td>Exec-managerial</td>\n",
              "      <td>Husband</td>\n",
              "      <td>White</td>\n",
              "      <td>Male</td>\n",
              "      <td>0</td>\n",
              "      <td>0</td>\n",
              "      <td>13</td>\n",
              "      <td>United-States</td>\n",
              "      <td>&lt;=50K</td>\n",
              "    </tr>\n",
              "    <tr>\n",
              "      <th>2</th>\n",
              "      <td>38</td>\n",
              "      <td>Private</td>\n",
              "      <td>215646</td>\n",
              "      <td>HS-grad</td>\n",
              "      <td>9</td>\n",
              "      <td>Divorced</td>\n",
              "      <td>Handlers-cleaners</td>\n",
              "      <td>Not-in-family</td>\n",
              "      <td>White</td>\n",
              "      <td>Male</td>\n",
              "      <td>0</td>\n",
              "      <td>0</td>\n",
              "      <td>40</td>\n",
              "      <td>United-States</td>\n",
              "      <td>&lt;=50K</td>\n",
              "    </tr>\n",
              "    <tr>\n",
              "      <th>3</th>\n",
              "      <td>53</td>\n",
              "      <td>Private</td>\n",
              "      <td>234721</td>\n",
              "      <td>11th</td>\n",
              "      <td>7</td>\n",
              "      <td>Married-civ-spouse</td>\n",
              "      <td>Handlers-cleaners</td>\n",
              "      <td>Husband</td>\n",
              "      <td>Black</td>\n",
              "      <td>Male</td>\n",
              "      <td>0</td>\n",
              "      <td>0</td>\n",
              "      <td>40</td>\n",
              "      <td>United-States</td>\n",
              "      <td>&lt;=50K</td>\n",
              "    </tr>\n",
              "    <tr>\n",
              "      <th>4</th>\n",
              "      <td>28</td>\n",
              "      <td>Private</td>\n",
              "      <td>338409</td>\n",
              "      <td>Bachelors</td>\n",
              "      <td>13</td>\n",
              "      <td>Married-civ-spouse</td>\n",
              "      <td>Prof-specialty</td>\n",
              "      <td>Wife</td>\n",
              "      <td>Black</td>\n",
              "      <td>Female</td>\n",
              "      <td>0</td>\n",
              "      <td>0</td>\n",
              "      <td>40</td>\n",
              "      <td>Cuba</td>\n",
              "      <td>&lt;=50K</td>\n",
              "    </tr>\n",
              "    <tr>\n",
              "      <th>...</th>\n",
              "      <td>...</td>\n",
              "      <td>...</td>\n",
              "      <td>...</td>\n",
              "      <td>...</td>\n",
              "      <td>...</td>\n",
              "      <td>...</td>\n",
              "      <td>...</td>\n",
              "      <td>...</td>\n",
              "      <td>...</td>\n",
              "      <td>...</td>\n",
              "      <td>...</td>\n",
              "      <td>...</td>\n",
              "      <td>...</td>\n",
              "      <td>...</td>\n",
              "      <td>...</td>\n",
              "    </tr>\n",
              "    <tr>\n",
              "      <th>32556</th>\n",
              "      <td>27</td>\n",
              "      <td>Private</td>\n",
              "      <td>257302</td>\n",
              "      <td>Assoc-acdm</td>\n",
              "      <td>12</td>\n",
              "      <td>Married-civ-spouse</td>\n",
              "      <td>Tech-support</td>\n",
              "      <td>Wife</td>\n",
              "      <td>White</td>\n",
              "      <td>Female</td>\n",
              "      <td>0</td>\n",
              "      <td>0</td>\n",
              "      <td>38</td>\n",
              "      <td>United-States</td>\n",
              "      <td>&lt;=50K</td>\n",
              "    </tr>\n",
              "    <tr>\n",
              "      <th>32557</th>\n",
              "      <td>40</td>\n",
              "      <td>Private</td>\n",
              "      <td>154374</td>\n",
              "      <td>HS-grad</td>\n",
              "      <td>9</td>\n",
              "      <td>Married-civ-spouse</td>\n",
              "      <td>Machine-op-inspct</td>\n",
              "      <td>Husband</td>\n",
              "      <td>White</td>\n",
              "      <td>Male</td>\n",
              "      <td>0</td>\n",
              "      <td>0</td>\n",
              "      <td>40</td>\n",
              "      <td>United-States</td>\n",
              "      <td>&gt;50K</td>\n",
              "    </tr>\n",
              "    <tr>\n",
              "      <th>32558</th>\n",
              "      <td>58</td>\n",
              "      <td>Private</td>\n",
              "      <td>151910</td>\n",
              "      <td>HS-grad</td>\n",
              "      <td>9</td>\n",
              "      <td>Widowed</td>\n",
              "      <td>Adm-clerical</td>\n",
              "      <td>Unmarried</td>\n",
              "      <td>White</td>\n",
              "      <td>Female</td>\n",
              "      <td>0</td>\n",
              "      <td>0</td>\n",
              "      <td>40</td>\n",
              "      <td>United-States</td>\n",
              "      <td>&lt;=50K</td>\n",
              "    </tr>\n",
              "    <tr>\n",
              "      <th>32559</th>\n",
              "      <td>22</td>\n",
              "      <td>Private</td>\n",
              "      <td>201490</td>\n",
              "      <td>HS-grad</td>\n",
              "      <td>9</td>\n",
              "      <td>Never-married</td>\n",
              "      <td>Adm-clerical</td>\n",
              "      <td>Own-child</td>\n",
              "      <td>White</td>\n",
              "      <td>Male</td>\n",
              "      <td>0</td>\n",
              "      <td>0</td>\n",
              "      <td>20</td>\n",
              "      <td>United-States</td>\n",
              "      <td>&lt;=50K</td>\n",
              "    </tr>\n",
              "    <tr>\n",
              "      <th>32560</th>\n",
              "      <td>52</td>\n",
              "      <td>Self-emp-inc</td>\n",
              "      <td>287927</td>\n",
              "      <td>HS-grad</td>\n",
              "      <td>9</td>\n",
              "      <td>Married-civ-spouse</td>\n",
              "      <td>Exec-managerial</td>\n",
              "      <td>Wife</td>\n",
              "      <td>White</td>\n",
              "      <td>Female</td>\n",
              "      <td>15024</td>\n",
              "      <td>0</td>\n",
              "      <td>40</td>\n",
              "      <td>United-States</td>\n",
              "      <td>&gt;50K</td>\n",
              "    </tr>\n",
              "  </tbody>\n",
              "</table>\n",
              "<p>32537 rows × 15 columns</p>\n",
              "</div>\n",
              "      <button class=\"colab-df-convert\" onclick=\"convertToInteractive('df-d0c8d009-1486-481a-acfe-79bf7fe54714')\"\n",
              "              title=\"Convert this dataframe to an interactive table.\"\n",
              "              style=\"display:none;\">\n",
              "        \n",
              "  <svg xmlns=\"http://www.w3.org/2000/svg\" height=\"24px\"viewBox=\"0 0 24 24\"\n",
              "       width=\"24px\">\n",
              "    <path d=\"M0 0h24v24H0V0z\" fill=\"none\"/>\n",
              "    <path d=\"M18.56 5.44l.94 2.06.94-2.06 2.06-.94-2.06-.94-.94-2.06-.94 2.06-2.06.94zm-11 1L8.5 8.5l.94-2.06 2.06-.94-2.06-.94L8.5 2.5l-.94 2.06-2.06.94zm10 10l.94 2.06.94-2.06 2.06-.94-2.06-.94-.94-2.06-.94 2.06-2.06.94z\"/><path d=\"M17.41 7.96l-1.37-1.37c-.4-.4-.92-.59-1.43-.59-.52 0-1.04.2-1.43.59L10.3 9.45l-7.72 7.72c-.78.78-.78 2.05 0 2.83L4 21.41c.39.39.9.59 1.41.59.51 0 1.02-.2 1.41-.59l7.78-7.78 2.81-2.81c.8-.78.8-2.07 0-2.86zM5.41 20L4 18.59l7.72-7.72 1.47 1.35L5.41 20z\"/>\n",
              "  </svg>\n",
              "      </button>\n",
              "      \n",
              "  <style>\n",
              "    .colab-df-container {\n",
              "      display:flex;\n",
              "      flex-wrap:wrap;\n",
              "      gap: 12px;\n",
              "    }\n",
              "\n",
              "    .colab-df-convert {\n",
              "      background-color: #E8F0FE;\n",
              "      border: none;\n",
              "      border-radius: 50%;\n",
              "      cursor: pointer;\n",
              "      display: none;\n",
              "      fill: #1967D2;\n",
              "      height: 32px;\n",
              "      padding: 0 0 0 0;\n",
              "      width: 32px;\n",
              "    }\n",
              "\n",
              "    .colab-df-convert:hover {\n",
              "      background-color: #E2EBFA;\n",
              "      box-shadow: 0px 1px 2px rgba(60, 64, 67, 0.3), 0px 1px 3px 1px rgba(60, 64, 67, 0.15);\n",
              "      fill: #174EA6;\n",
              "    }\n",
              "\n",
              "    [theme=dark] .colab-df-convert {\n",
              "      background-color: #3B4455;\n",
              "      fill: #D2E3FC;\n",
              "    }\n",
              "\n",
              "    [theme=dark] .colab-df-convert:hover {\n",
              "      background-color: #434B5C;\n",
              "      box-shadow: 0px 1px 3px 1px rgba(0, 0, 0, 0.15);\n",
              "      filter: drop-shadow(0px 1px 2px rgba(0, 0, 0, 0.3));\n",
              "      fill: #FFFFFF;\n",
              "    }\n",
              "  </style>\n",
              "\n",
              "      <script>\n",
              "        const buttonEl =\n",
              "          document.querySelector('#df-d0c8d009-1486-481a-acfe-79bf7fe54714 button.colab-df-convert');\n",
              "        buttonEl.style.display =\n",
              "          google.colab.kernel.accessAllowed ? 'block' : 'none';\n",
              "\n",
              "        async function convertToInteractive(key) {\n",
              "          const element = document.querySelector('#df-d0c8d009-1486-481a-acfe-79bf7fe54714');\n",
              "          const dataTable =\n",
              "            await google.colab.kernel.invokeFunction('convertToInteractive',\n",
              "                                                     [key], {});\n",
              "          if (!dataTable) return;\n",
              "\n",
              "          const docLinkHtml = 'Like what you see? Visit the ' +\n",
              "            '<a target=\"_blank\" href=https://colab.research.google.com/notebooks/data_table.ipynb>data table notebook</a>'\n",
              "            + ' to learn more about interactive tables.';\n",
              "          element.innerHTML = '';\n",
              "          dataTable['output_type'] = 'display_data';\n",
              "          await google.colab.output.renderOutput(dataTable, element);\n",
              "          const docLink = document.createElement('div');\n",
              "          docLink.innerHTML = docLinkHtml;\n",
              "          element.appendChild(docLink);\n",
              "        }\n",
              "      </script>\n",
              "    </div>\n",
              "  </div>\n",
              "  "
            ]
          },
          "metadata": {},
          "execution_count": 35
        }
      ],
      "source": [
        "df"
      ]
    },
    {
      "cell_type": "markdown",
      "id": "03ef648a",
      "metadata": {
        "id": "03ef648a"
      },
      "source": [
        "## Feature Engineering"
      ]
    },
    {
      "cell_type": "markdown",
      "source": [
        "---\n",
        "---\n",
        "*Converting target variable to binary value*"
      ],
      "metadata": {
        "id": "6lSQWL5kA_sK"
      },
      "id": "6lSQWL5kA_sK"
    },
    {
      "cell_type": "code",
      "source": [
        "df['salary'] = df['salary'].map({' >50K': 1, ' <=50K': 0})\n",
        "X = df.iloc[:, 0:-1]\n",
        "y = df.iloc[:, -1]\n",
        "X['native-country'].value_counts().sort_values(ascending=False).head(20)\n"
      ],
      "metadata": {
        "colab": {
          "base_uri": "https://localhost:8080/"
        },
        "id": "4ImFBTeziJYO",
        "outputId": "c8573117-0826-40cd-d714-db2e11158852"
      },
      "id": "4ImFBTeziJYO",
      "execution_count": 36,
      "outputs": [
        {
          "output_type": "execute_result",
          "data": {
            "text/plain": [
              " United-States         29735\n",
              " Mexico                  639\n",
              " Philippines             198\n",
              " Germany                 137\n",
              " Canada                  121\n",
              " Puerto-Rico             114\n",
              " El-Salvador             106\n",
              " India                   100\n",
              " Cuba                     95\n",
              " England                  90\n",
              " Jamaica                  81\n",
              " South                    80\n",
              " China                    75\n",
              " Italy                    73\n",
              " Dominican-Republic       70\n",
              " Vietnam                  67\n",
              " Japan                    62\n",
              " Guatemala                62\n",
              " Poland                   60\n",
              " Columbia                 59\n",
              "Name: native-country, dtype: int64"
            ]
          },
          "metadata": {},
          "execution_count": 36
        }
      ]
    },
    {
      "cell_type": "code",
      "source": [
        "#Find relationship\n",
        "def get_mutual_information_score(X, y):\n",
        "    X1 = X.copy()\n",
        "    # Target variable y discrete\n",
        "    for i in X1.select_dtypes('object').columns:\n",
        "        X1[i], _ = X1[i].factorize()\n",
        "    mi_score = mutual_info_regression(X1, y)\n",
        "    return pd.Series(mi_score, name='MI Score', index=X1.columns).sort_values(ascending=False)\n",
        "\n",
        "#categorical Data\n",
        "def one_hot_encoding_field(dataset, field_name):\n",
        "    field_one_hot = pd.get_dummies(X[field_name], prefix=f\"{field_name}=\", prefix_sep=\"\")\n",
        "    dataset = pd.concat([X, field_one_hot], axis=1)\n",
        "    dataset = dataset.drop([field_name], axis=1)\n",
        "    return dataset\n",
        "\n",
        "#normalizing so that some fields with higher integer values dont unnecessarily skew the model\n",
        "def normalization_of_numerical(dataset, field_name):\n",
        "    X[field_name] = X[field_name] / X[field_name].max()\n",
        "    return X"
      ],
      "metadata": {
        "id": "AKLpfvYuhw8h"
      },
      "id": "AKLpfvYuhw8h",
      "execution_count": 37,
      "outputs": []
    },
    {
      "cell_type": "code",
      "source": [
        "print(get_mutual_information_score(X, y))"
      ],
      "metadata": {
        "colab": {
          "base_uri": "https://localhost:8080/"
        },
        "id": "nTAI-96khx0v",
        "outputId": "b1fcba88-e34a-4db9-bc17-316c2e8c786b"
      },
      "id": "nTAI-96khx0v",
      "execution_count": 38,
      "outputs": [
        {
          "output_type": "stream",
          "name": "stdout",
          "text": [
            "relationship      0.066144\n",
            "education-num     0.058811\n",
            "age               0.057368\n",
            "capital-gain      0.047873\n",
            "hours-per-week    0.032838\n",
            "sex               0.029426\n",
            "marital-status    0.021539\n",
            "workclass         0.013137\n",
            "education         0.011476\n",
            "capital-loss      0.006436\n",
            "fnlwgt            0.005063\n",
            "occupation        0.003103\n",
            "race              0.000000\n",
            "native-country    0.000000\n",
            "Name: MI Score, dtype: float64\n"
          ]
        }
      ]
    },
    {
      "cell_type": "markdown",
      "id": "a39bbbf6",
      "metadata": {
        "id": "a39bbbf6"
      },
      "source": [
        "#### encoding native-country"
      ]
    },
    {
      "cell_type": "code",
      "execution_count": 39,
      "id": "80428875",
      "metadata": {
        "colab": {
          "base_uri": "https://localhost:8080/"
        },
        "id": "80428875",
        "outputId": "9183847d-9fa1-47c1-e3cf-839673277078"
      },
      "outputs": [
        {
          "output_type": "stream",
          "name": "stdout",
          "text": [
            " United-States\n",
            " Mexico\n",
            " Philippines\n",
            " Germany\n",
            " Canada\n",
            " Puerto-Rico\n",
            " El-Salvador\n",
            " India\n",
            " Cuba\n",
            " England\n"
          ]
        }
      ],
      "source": [
        "most_frequent_10 = [x for x in X['native-country'].value_counts().sort_values(ascending=False).head(10).index]\n",
        "most_frequent_10\n",
        "for i in most_frequent_10:\n",
        "  print(i)\n",
        "  X[i]=np.where(X['native-country']==i,1,0)\n",
        "\n"
      ]
    },
    {
      "cell_type": "code",
      "execution_count": 40,
      "id": "529f349b",
      "metadata": {
        "colab": {
          "base_uri": "https://localhost:8080/",
          "height": 424
        },
        "id": "529f349b",
        "outputId": "7a79af0a-b267-4c39-c3eb-9f057daf1ed3"
      },
      "outputs": [
        {
          "output_type": "execute_result",
          "data": {
            "text/plain": [
              "       native-country   United-States   Mexico   Philippines   Germany  \\\n",
              "0       United-States               1        0             0         0   \n",
              "1       United-States               1        0             0         0   \n",
              "2       United-States               1        0             0         0   \n",
              "3       United-States               1        0             0         0   \n",
              "4                Cuba               0        0             0         0   \n",
              "...               ...             ...      ...           ...       ...   \n",
              "32556   United-States               1        0             0         0   \n",
              "32557   United-States               1        0             0         0   \n",
              "32558   United-States               1        0             0         0   \n",
              "32559   United-States               1        0             0         0   \n",
              "32560   United-States               1        0             0         0   \n",
              "\n",
              "        Canada   Puerto-Rico   El-Salvador   India   Cuba   England  \n",
              "0            0             0             0       0      0         0  \n",
              "1            0             0             0       0      0         0  \n",
              "2            0             0             0       0      0         0  \n",
              "3            0             0             0       0      0         0  \n",
              "4            0             0             0       0      1         0  \n",
              "...        ...           ...           ...     ...    ...       ...  \n",
              "32556        0             0             0       0      0         0  \n",
              "32557        0             0             0       0      0         0  \n",
              "32558        0             0             0       0      0         0  \n",
              "32559        0             0             0       0      0         0  \n",
              "32560        0             0             0       0      0         0  \n",
              "\n",
              "[32537 rows x 11 columns]"
            ],
            "text/html": [
              "\n",
              "  <div id=\"df-41c42c0f-95a2-413e-97dc-642eedf31a09\">\n",
              "    <div class=\"colab-df-container\">\n",
              "      <div>\n",
              "<style scoped>\n",
              "    .dataframe tbody tr th:only-of-type {\n",
              "        vertical-align: middle;\n",
              "    }\n",
              "\n",
              "    .dataframe tbody tr th {\n",
              "        vertical-align: top;\n",
              "    }\n",
              "\n",
              "    .dataframe thead th {\n",
              "        text-align: right;\n",
              "    }\n",
              "</style>\n",
              "<table border=\"1\" class=\"dataframe\">\n",
              "  <thead>\n",
              "    <tr style=\"text-align: right;\">\n",
              "      <th></th>\n",
              "      <th>native-country</th>\n",
              "      <th>United-States</th>\n",
              "      <th>Mexico</th>\n",
              "      <th>Philippines</th>\n",
              "      <th>Germany</th>\n",
              "      <th>Canada</th>\n",
              "      <th>Puerto-Rico</th>\n",
              "      <th>El-Salvador</th>\n",
              "      <th>India</th>\n",
              "      <th>Cuba</th>\n",
              "      <th>England</th>\n",
              "    </tr>\n",
              "  </thead>\n",
              "  <tbody>\n",
              "    <tr>\n",
              "      <th>0</th>\n",
              "      <td>United-States</td>\n",
              "      <td>1</td>\n",
              "      <td>0</td>\n",
              "      <td>0</td>\n",
              "      <td>0</td>\n",
              "      <td>0</td>\n",
              "      <td>0</td>\n",
              "      <td>0</td>\n",
              "      <td>0</td>\n",
              "      <td>0</td>\n",
              "      <td>0</td>\n",
              "    </tr>\n",
              "    <tr>\n",
              "      <th>1</th>\n",
              "      <td>United-States</td>\n",
              "      <td>1</td>\n",
              "      <td>0</td>\n",
              "      <td>0</td>\n",
              "      <td>0</td>\n",
              "      <td>0</td>\n",
              "      <td>0</td>\n",
              "      <td>0</td>\n",
              "      <td>0</td>\n",
              "      <td>0</td>\n",
              "      <td>0</td>\n",
              "    </tr>\n",
              "    <tr>\n",
              "      <th>2</th>\n",
              "      <td>United-States</td>\n",
              "      <td>1</td>\n",
              "      <td>0</td>\n",
              "      <td>0</td>\n",
              "      <td>0</td>\n",
              "      <td>0</td>\n",
              "      <td>0</td>\n",
              "      <td>0</td>\n",
              "      <td>0</td>\n",
              "      <td>0</td>\n",
              "      <td>0</td>\n",
              "    </tr>\n",
              "    <tr>\n",
              "      <th>3</th>\n",
              "      <td>United-States</td>\n",
              "      <td>1</td>\n",
              "      <td>0</td>\n",
              "      <td>0</td>\n",
              "      <td>0</td>\n",
              "      <td>0</td>\n",
              "      <td>0</td>\n",
              "      <td>0</td>\n",
              "      <td>0</td>\n",
              "      <td>0</td>\n",
              "      <td>0</td>\n",
              "    </tr>\n",
              "    <tr>\n",
              "      <th>4</th>\n",
              "      <td>Cuba</td>\n",
              "      <td>0</td>\n",
              "      <td>0</td>\n",
              "      <td>0</td>\n",
              "      <td>0</td>\n",
              "      <td>0</td>\n",
              "      <td>0</td>\n",
              "      <td>0</td>\n",
              "      <td>0</td>\n",
              "      <td>1</td>\n",
              "      <td>0</td>\n",
              "    </tr>\n",
              "    <tr>\n",
              "      <th>...</th>\n",
              "      <td>...</td>\n",
              "      <td>...</td>\n",
              "      <td>...</td>\n",
              "      <td>...</td>\n",
              "      <td>...</td>\n",
              "      <td>...</td>\n",
              "      <td>...</td>\n",
              "      <td>...</td>\n",
              "      <td>...</td>\n",
              "      <td>...</td>\n",
              "      <td>...</td>\n",
              "    </tr>\n",
              "    <tr>\n",
              "      <th>32556</th>\n",
              "      <td>United-States</td>\n",
              "      <td>1</td>\n",
              "      <td>0</td>\n",
              "      <td>0</td>\n",
              "      <td>0</td>\n",
              "      <td>0</td>\n",
              "      <td>0</td>\n",
              "      <td>0</td>\n",
              "      <td>0</td>\n",
              "      <td>0</td>\n",
              "      <td>0</td>\n",
              "    </tr>\n",
              "    <tr>\n",
              "      <th>32557</th>\n",
              "      <td>United-States</td>\n",
              "      <td>1</td>\n",
              "      <td>0</td>\n",
              "      <td>0</td>\n",
              "      <td>0</td>\n",
              "      <td>0</td>\n",
              "      <td>0</td>\n",
              "      <td>0</td>\n",
              "      <td>0</td>\n",
              "      <td>0</td>\n",
              "      <td>0</td>\n",
              "    </tr>\n",
              "    <tr>\n",
              "      <th>32558</th>\n",
              "      <td>United-States</td>\n",
              "      <td>1</td>\n",
              "      <td>0</td>\n",
              "      <td>0</td>\n",
              "      <td>0</td>\n",
              "      <td>0</td>\n",
              "      <td>0</td>\n",
              "      <td>0</td>\n",
              "      <td>0</td>\n",
              "      <td>0</td>\n",
              "      <td>0</td>\n",
              "    </tr>\n",
              "    <tr>\n",
              "      <th>32559</th>\n",
              "      <td>United-States</td>\n",
              "      <td>1</td>\n",
              "      <td>0</td>\n",
              "      <td>0</td>\n",
              "      <td>0</td>\n",
              "      <td>0</td>\n",
              "      <td>0</td>\n",
              "      <td>0</td>\n",
              "      <td>0</td>\n",
              "      <td>0</td>\n",
              "      <td>0</td>\n",
              "    </tr>\n",
              "    <tr>\n",
              "      <th>32560</th>\n",
              "      <td>United-States</td>\n",
              "      <td>1</td>\n",
              "      <td>0</td>\n",
              "      <td>0</td>\n",
              "      <td>0</td>\n",
              "      <td>0</td>\n",
              "      <td>0</td>\n",
              "      <td>0</td>\n",
              "      <td>0</td>\n",
              "      <td>0</td>\n",
              "      <td>0</td>\n",
              "    </tr>\n",
              "  </tbody>\n",
              "</table>\n",
              "<p>32537 rows × 11 columns</p>\n",
              "</div>\n",
              "      <button class=\"colab-df-convert\" onclick=\"convertToInteractive('df-41c42c0f-95a2-413e-97dc-642eedf31a09')\"\n",
              "              title=\"Convert this dataframe to an interactive table.\"\n",
              "              style=\"display:none;\">\n",
              "        \n",
              "  <svg xmlns=\"http://www.w3.org/2000/svg\" height=\"24px\"viewBox=\"0 0 24 24\"\n",
              "       width=\"24px\">\n",
              "    <path d=\"M0 0h24v24H0V0z\" fill=\"none\"/>\n",
              "    <path d=\"M18.56 5.44l.94 2.06.94-2.06 2.06-.94-2.06-.94-.94-2.06-.94 2.06-2.06.94zm-11 1L8.5 8.5l.94-2.06 2.06-.94-2.06-.94L8.5 2.5l-.94 2.06-2.06.94zm10 10l.94 2.06.94-2.06 2.06-.94-2.06-.94-.94-2.06-.94 2.06-2.06.94z\"/><path d=\"M17.41 7.96l-1.37-1.37c-.4-.4-.92-.59-1.43-.59-.52 0-1.04.2-1.43.59L10.3 9.45l-7.72 7.72c-.78.78-.78 2.05 0 2.83L4 21.41c.39.39.9.59 1.41.59.51 0 1.02-.2 1.41-.59l7.78-7.78 2.81-2.81c.8-.78.8-2.07 0-2.86zM5.41 20L4 18.59l7.72-7.72 1.47 1.35L5.41 20z\"/>\n",
              "  </svg>\n",
              "      </button>\n",
              "      \n",
              "  <style>\n",
              "    .colab-df-container {\n",
              "      display:flex;\n",
              "      flex-wrap:wrap;\n",
              "      gap: 12px;\n",
              "    }\n",
              "\n",
              "    .colab-df-convert {\n",
              "      background-color: #E8F0FE;\n",
              "      border: none;\n",
              "      border-radius: 50%;\n",
              "      cursor: pointer;\n",
              "      display: none;\n",
              "      fill: #1967D2;\n",
              "      height: 32px;\n",
              "      padding: 0 0 0 0;\n",
              "      width: 32px;\n",
              "    }\n",
              "\n",
              "    .colab-df-convert:hover {\n",
              "      background-color: #E2EBFA;\n",
              "      box-shadow: 0px 1px 2px rgba(60, 64, 67, 0.3), 0px 1px 3px 1px rgba(60, 64, 67, 0.15);\n",
              "      fill: #174EA6;\n",
              "    }\n",
              "\n",
              "    [theme=dark] .colab-df-convert {\n",
              "      background-color: #3B4455;\n",
              "      fill: #D2E3FC;\n",
              "    }\n",
              "\n",
              "    [theme=dark] .colab-df-convert:hover {\n",
              "      background-color: #434B5C;\n",
              "      box-shadow: 0px 1px 3px 1px rgba(0, 0, 0, 0.15);\n",
              "      filter: drop-shadow(0px 1px 2px rgba(0, 0, 0, 0.3));\n",
              "      fill: #FFFFFF;\n",
              "    }\n",
              "  </style>\n",
              "\n",
              "      <script>\n",
              "        const buttonEl =\n",
              "          document.querySelector('#df-41c42c0f-95a2-413e-97dc-642eedf31a09 button.colab-df-convert');\n",
              "        buttonEl.style.display =\n",
              "          google.colab.kernel.accessAllowed ? 'block' : 'none';\n",
              "\n",
              "        async function convertToInteractive(key) {\n",
              "          const element = document.querySelector('#df-41c42c0f-95a2-413e-97dc-642eedf31a09');\n",
              "          const dataTable =\n",
              "            await google.colab.kernel.invokeFunction('convertToInteractive',\n",
              "                                                     [key], {});\n",
              "          if (!dataTable) return;\n",
              "\n",
              "          const docLinkHtml = 'Like what you see? Visit the ' +\n",
              "            '<a target=\"_blank\" href=https://colab.research.google.com/notebooks/data_table.ipynb>data table notebook</a>'\n",
              "            + ' to learn more about interactive tables.';\n",
              "          element.innerHTML = '';\n",
              "          dataTable['output_type'] = 'display_data';\n",
              "          await google.colab.output.renderOutput(dataTable, element);\n",
              "          const docLink = document.createElement('div');\n",
              "          docLink.innerHTML = docLinkHtml;\n",
              "          element.appendChild(docLink);\n",
              "        }\n",
              "      </script>\n",
              "    </div>\n",
              "  </div>\n",
              "  "
            ]
          },
          "metadata": {},
          "execution_count": 40
        }
      ],
      "source": [
        "# Onehot encoding mapping result\n",
        "X[['native-country']+most_frequent_10]"
      ]
    },
    {
      "cell_type": "markdown",
      "id": "a8e3dbc8",
      "metadata": {
        "id": "a8e3dbc8"
      },
      "source": [
        "#### encoding marital-status"
      ]
    },
    {
      "cell_type": "code",
      "execution_count": 41,
      "id": "31453968",
      "metadata": {
        "colab": {
          "base_uri": "https://localhost:8080/"
        },
        "id": "31453968",
        "outputId": "a03cb5fb-8fe2-4b83-d167-0fe2ea8db636"
      },
      "outputs": [
        {
          "output_type": "execute_result",
          "data": {
            "text/plain": [
              " Married-civ-spouse       14970\n",
              " Never-married            10667\n",
              " Divorced                  4441\n",
              " Separated                 1025\n",
              " Widowed                    993\n",
              " Married-spouse-absent      418\n",
              " Married-AF-spouse           23\n",
              "Name: marital-status, dtype: int64"
            ]
          },
          "metadata": {},
          "execution_count": 41
        }
      ],
      "source": [
        "X['marital-status'].value_counts()\n"
      ]
    },
    {
      "cell_type": "code",
      "execution_count": 42,
      "id": "7dbf2168",
      "metadata": {
        "scrolled": false,
        "colab": {
          "base_uri": "https://localhost:8080/"
        },
        "id": "7dbf2168",
        "outputId": "043403cf-5ec6-4871-97e4-7168ccba787e"
      },
      "outputs": [
        {
          "output_type": "execute_result",
          "data": {
            "text/plain": [
              " 1    15411\n",
              "-1    10667\n",
              " 0     6459\n",
              "Name: marital-status, dtype: int64"
            ]
          },
          "metadata": {},
          "execution_count": 42
        }
      ],
      "source": [
        "X['marital-status']=X['marital-status'].replace([' Married-civ-spouse',' Married-spouse-absent',' Married-AF-spouse'],1)\n",
        "X['marital-status']=X['marital-status'].replace([' Divorced',' Separated',' Widowed'],0)\n",
        "X['marital-status']=X['marital-status'].replace([' Never-married'],-1)\n",
        "X['marital-status'].value_counts()\n"
      ]
    },
    {
      "cell_type": "markdown",
      "id": "95da6a51",
      "metadata": {
        "id": "95da6a51"
      },
      "source": [
        "#### Encoding relationship\n"
      ]
    },
    {
      "cell_type": "code",
      "execution_count": 43,
      "id": "624a2e88",
      "metadata": {
        "colab": {
          "base_uri": "https://localhost:8080/"
        },
        "id": "624a2e88",
        "outputId": "1519d7e2-b5a4-4d1f-a5d8-35929b282142"
      },
      "outputs": [
        {
          "output_type": "execute_result",
          "data": {
            "text/plain": [
              "0    17782\n",
              "1    14755\n",
              "Name: relationship, dtype: int64"
            ]
          },
          "metadata": {},
          "execution_count": 43
        }
      ],
      "source": [
        "X['relationship']=X['relationship'].replace([' Husband',' Wife'],1)\n",
        "X['relationship']=X['relationship'].replace([' Not-in-family',' Unmarried',' Own-child', ' Other-relative'],0)\n",
        "\n",
        "X['relationship'].value_counts()\n"
      ]
    },
    {
      "cell_type": "code",
      "source": [
        "### Normalizinng fucntion, onehot encoding function and MutualInformation function"
      ],
      "metadata": {
        "id": "pgr_cgeNhFuA"
      },
      "id": "pgr_cgeNhFuA",
      "execution_count": 44,
      "outputs": []
    },
    {
      "cell_type": "code",
      "execution_count": 45,
      "id": "aa25b2f1",
      "metadata": {
        "scrolled": true,
        "colab": {
          "base_uri": "https://localhost:8080/",
          "height": 269
        },
        "id": "aa25b2f1",
        "outputId": "6576a11a-edf9-41b6-9b08-6d740b4feb27"
      },
      "outputs": [
        {
          "output_type": "execute_result",
          "data": {
            "text/plain": [
              "   age          workclass  fnlwgt   education  education-num  marital-status  \\\n",
              "0   39          State-gov   77516   Bachelors             13              -1   \n",
              "1   50   Self-emp-not-inc   83311   Bachelors             13               1   \n",
              "2   38            Private  215646     HS-grad              9               0   \n",
              "\n",
              "           occupation  relationship    race    sex  ...   United-States  \\\n",
              "0        Adm-clerical             0   White   Male  ...               1   \n",
              "1     Exec-managerial             1   White   Male  ...               1   \n",
              "2   Handlers-cleaners             0   White   Male  ...               1   \n",
              "\n",
              "    Mexico   Philippines  Germany   Canada   Puerto-Rico   El-Salvador  \\\n",
              "0        0             0        0        0             0             0   \n",
              "1        0             0        0        0             0             0   \n",
              "2        0             0        0        0             0             0   \n",
              "\n",
              "    India   Cuba   England  \n",
              "0       0      0         0  \n",
              "1       0      0         0  \n",
              "2       0      0         0  \n",
              "\n",
              "[3 rows x 24 columns]"
            ],
            "text/html": [
              "\n",
              "  <div id=\"df-7fbe60f3-5c24-4320-94fb-40c4ae2c83e2\">\n",
              "    <div class=\"colab-df-container\">\n",
              "      <div>\n",
              "<style scoped>\n",
              "    .dataframe tbody tr th:only-of-type {\n",
              "        vertical-align: middle;\n",
              "    }\n",
              "\n",
              "    .dataframe tbody tr th {\n",
              "        vertical-align: top;\n",
              "    }\n",
              "\n",
              "    .dataframe thead th {\n",
              "        text-align: right;\n",
              "    }\n",
              "</style>\n",
              "<table border=\"1\" class=\"dataframe\">\n",
              "  <thead>\n",
              "    <tr style=\"text-align: right;\">\n",
              "      <th></th>\n",
              "      <th>age</th>\n",
              "      <th>workclass</th>\n",
              "      <th>fnlwgt</th>\n",
              "      <th>education</th>\n",
              "      <th>education-num</th>\n",
              "      <th>marital-status</th>\n",
              "      <th>occupation</th>\n",
              "      <th>relationship</th>\n",
              "      <th>race</th>\n",
              "      <th>sex</th>\n",
              "      <th>...</th>\n",
              "      <th>United-States</th>\n",
              "      <th>Mexico</th>\n",
              "      <th>Philippines</th>\n",
              "      <th>Germany</th>\n",
              "      <th>Canada</th>\n",
              "      <th>Puerto-Rico</th>\n",
              "      <th>El-Salvador</th>\n",
              "      <th>India</th>\n",
              "      <th>Cuba</th>\n",
              "      <th>England</th>\n",
              "    </tr>\n",
              "  </thead>\n",
              "  <tbody>\n",
              "    <tr>\n",
              "      <th>0</th>\n",
              "      <td>39</td>\n",
              "      <td>State-gov</td>\n",
              "      <td>77516</td>\n",
              "      <td>Bachelors</td>\n",
              "      <td>13</td>\n",
              "      <td>-1</td>\n",
              "      <td>Adm-clerical</td>\n",
              "      <td>0</td>\n",
              "      <td>White</td>\n",
              "      <td>Male</td>\n",
              "      <td>...</td>\n",
              "      <td>1</td>\n",
              "      <td>0</td>\n",
              "      <td>0</td>\n",
              "      <td>0</td>\n",
              "      <td>0</td>\n",
              "      <td>0</td>\n",
              "      <td>0</td>\n",
              "      <td>0</td>\n",
              "      <td>0</td>\n",
              "      <td>0</td>\n",
              "    </tr>\n",
              "    <tr>\n",
              "      <th>1</th>\n",
              "      <td>50</td>\n",
              "      <td>Self-emp-not-inc</td>\n",
              "      <td>83311</td>\n",
              "      <td>Bachelors</td>\n",
              "      <td>13</td>\n",
              "      <td>1</td>\n",
              "      <td>Exec-managerial</td>\n",
              "      <td>1</td>\n",
              "      <td>White</td>\n",
              "      <td>Male</td>\n",
              "      <td>...</td>\n",
              "      <td>1</td>\n",
              "      <td>0</td>\n",
              "      <td>0</td>\n",
              "      <td>0</td>\n",
              "      <td>0</td>\n",
              "      <td>0</td>\n",
              "      <td>0</td>\n",
              "      <td>0</td>\n",
              "      <td>0</td>\n",
              "      <td>0</td>\n",
              "    </tr>\n",
              "    <tr>\n",
              "      <th>2</th>\n",
              "      <td>38</td>\n",
              "      <td>Private</td>\n",
              "      <td>215646</td>\n",
              "      <td>HS-grad</td>\n",
              "      <td>9</td>\n",
              "      <td>0</td>\n",
              "      <td>Handlers-cleaners</td>\n",
              "      <td>0</td>\n",
              "      <td>White</td>\n",
              "      <td>Male</td>\n",
              "      <td>...</td>\n",
              "      <td>1</td>\n",
              "      <td>0</td>\n",
              "      <td>0</td>\n",
              "      <td>0</td>\n",
              "      <td>0</td>\n",
              "      <td>0</td>\n",
              "      <td>0</td>\n",
              "      <td>0</td>\n",
              "      <td>0</td>\n",
              "      <td>0</td>\n",
              "    </tr>\n",
              "  </tbody>\n",
              "</table>\n",
              "<p>3 rows × 24 columns</p>\n",
              "</div>\n",
              "      <button class=\"colab-df-convert\" onclick=\"convertToInteractive('df-7fbe60f3-5c24-4320-94fb-40c4ae2c83e2')\"\n",
              "              title=\"Convert this dataframe to an interactive table.\"\n",
              "              style=\"display:none;\">\n",
              "        \n",
              "  <svg xmlns=\"http://www.w3.org/2000/svg\" height=\"24px\"viewBox=\"0 0 24 24\"\n",
              "       width=\"24px\">\n",
              "    <path d=\"M0 0h24v24H0V0z\" fill=\"none\"/>\n",
              "    <path d=\"M18.56 5.44l.94 2.06.94-2.06 2.06-.94-2.06-.94-.94-2.06-.94 2.06-2.06.94zm-11 1L8.5 8.5l.94-2.06 2.06-.94-2.06-.94L8.5 2.5l-.94 2.06-2.06.94zm10 10l.94 2.06.94-2.06 2.06-.94-2.06-.94-.94-2.06-.94 2.06-2.06.94z\"/><path d=\"M17.41 7.96l-1.37-1.37c-.4-.4-.92-.59-1.43-.59-.52 0-1.04.2-1.43.59L10.3 9.45l-7.72 7.72c-.78.78-.78 2.05 0 2.83L4 21.41c.39.39.9.59 1.41.59.51 0 1.02-.2 1.41-.59l7.78-7.78 2.81-2.81c.8-.78.8-2.07 0-2.86zM5.41 20L4 18.59l7.72-7.72 1.47 1.35L5.41 20z\"/>\n",
              "  </svg>\n",
              "      </button>\n",
              "      \n",
              "  <style>\n",
              "    .colab-df-container {\n",
              "      display:flex;\n",
              "      flex-wrap:wrap;\n",
              "      gap: 12px;\n",
              "    }\n",
              "\n",
              "    .colab-df-convert {\n",
              "      background-color: #E8F0FE;\n",
              "      border: none;\n",
              "      border-radius: 50%;\n",
              "      cursor: pointer;\n",
              "      display: none;\n",
              "      fill: #1967D2;\n",
              "      height: 32px;\n",
              "      padding: 0 0 0 0;\n",
              "      width: 32px;\n",
              "    }\n",
              "\n",
              "    .colab-df-convert:hover {\n",
              "      background-color: #E2EBFA;\n",
              "      box-shadow: 0px 1px 2px rgba(60, 64, 67, 0.3), 0px 1px 3px 1px rgba(60, 64, 67, 0.15);\n",
              "      fill: #174EA6;\n",
              "    }\n",
              "\n",
              "    [theme=dark] .colab-df-convert {\n",
              "      background-color: #3B4455;\n",
              "      fill: #D2E3FC;\n",
              "    }\n",
              "\n",
              "    [theme=dark] .colab-df-convert:hover {\n",
              "      background-color: #434B5C;\n",
              "      box-shadow: 0px 1px 3px 1px rgba(0, 0, 0, 0.15);\n",
              "      filter: drop-shadow(0px 1px 2px rgba(0, 0, 0, 0.3));\n",
              "      fill: #FFFFFF;\n",
              "    }\n",
              "  </style>\n",
              "\n",
              "      <script>\n",
              "        const buttonEl =\n",
              "          document.querySelector('#df-7fbe60f3-5c24-4320-94fb-40c4ae2c83e2 button.colab-df-convert');\n",
              "        buttonEl.style.display =\n",
              "          google.colab.kernel.accessAllowed ? 'block' : 'none';\n",
              "\n",
              "        async function convertToInteractive(key) {\n",
              "          const element = document.querySelector('#df-7fbe60f3-5c24-4320-94fb-40c4ae2c83e2');\n",
              "          const dataTable =\n",
              "            await google.colab.kernel.invokeFunction('convertToInteractive',\n",
              "                                                     [key], {});\n",
              "          if (!dataTable) return;\n",
              "\n",
              "          const docLinkHtml = 'Like what you see? Visit the ' +\n",
              "            '<a target=\"_blank\" href=https://colab.research.google.com/notebooks/data_table.ipynb>data table notebook</a>'\n",
              "            + ' to learn more about interactive tables.';\n",
              "          element.innerHTML = '';\n",
              "          dataTable['output_type'] = 'display_data';\n",
              "          await google.colab.output.renderOutput(dataTable, element);\n",
              "          const docLink = document.createElement('div');\n",
              "          docLink.innerHTML = docLinkHtml;\n",
              "          element.appendChild(docLink);\n",
              "        }\n",
              "      </script>\n",
              "    </div>\n",
              "  </div>\n",
              "  "
            ]
          },
          "metadata": {},
          "execution_count": 45
        }
      ],
      "source": [
        "X.head(3)"
      ]
    },
    {
      "cell_type": "code",
      "execution_count": 46,
      "id": "0c11c377",
      "metadata": {
        "id": "0c11c377"
      },
      "outputs": [],
      "source": [
        "#normalizing so that some fields with higher integer values dont unnecessarily skew the model\n",
        "numerical_fields_for_normalization = [\"age\", \"fnlwgt\", \"education-num\", \"capital-gain\", \"capital-loss\", \"hours-per-week\"]\n",
        "\n",
        "nominal_fields_for_one_hot_encoding=[\"workclass\",\"occupation\",\"sex\",\"race\"]"
      ]
    },
    {
      "cell_type": "code",
      "execution_count": 47,
      "id": "b76bc14c",
      "metadata": {
        "colab": {
          "base_uri": "https://localhost:8080/"
        },
        "id": "b76bc14c",
        "outputId": "5a9491ff-b665-49d6-ca06-6b682bb2c331"
      },
      "outputs": [
        {
          "output_type": "execute_result",
          "data": {
            "text/plain": [
              "0        0\n",
              "1        0\n",
              "2        0\n",
              "3        0\n",
              "4        0\n",
              "        ..\n",
              "32556    0\n",
              "32557    1\n",
              "32558    0\n",
              "32559    0\n",
              "32560    1\n",
              "Name: salary, Length: 32537, dtype: int64"
            ]
          },
          "metadata": {},
          "execution_count": 47
        }
      ],
      "source": [
        "y"
      ]
    },
    {
      "cell_type": "code",
      "execution_count": 48,
      "id": "773c38fc",
      "metadata": {
        "id": "773c38fc"
      },
      "outputs": [],
      "source": [
        "#dropping native-country as if its encoded.\n",
        "\n",
        "X.drop('native-country', axis=1, inplace=True)\n",
        "\n",
        "#dropping education as there is an exact mirror field education-num\n",
        "X.drop('education', axis=1, inplace=True)\n"
      ]
    },
    {
      "cell_type": "code",
      "execution_count": 49,
      "id": "ba4672c3",
      "metadata": {
        "scrolled": false,
        "colab": {
          "base_uri": "https://localhost:8080/",
          "height": 349
        },
        "id": "ba4672c3",
        "outputId": "cea91e0e-db20-436a-a1e9-66a83864520e"
      },
      "outputs": [
        {
          "output_type": "execute_result",
          "data": {
            "text/plain": [
              "   age          workclass  fnlwgt  education-num  marital-status  \\\n",
              "0   39          State-gov   77516             13              -1   \n",
              "1   50   Self-emp-not-inc   83311             13               1   \n",
              "2   38            Private  215646              9               0   \n",
              "3   53            Private  234721              7               1   \n",
              "4   28            Private  338409             13               1   \n",
              "\n",
              "           occupation  relationship    race      sex  capital-gain  ...  \\\n",
              "0        Adm-clerical             0   White     Male          2174  ...   \n",
              "1     Exec-managerial             1   White     Male             0  ...   \n",
              "2   Handlers-cleaners             0   White     Male             0  ...   \n",
              "3   Handlers-cleaners             1   Black     Male             0  ...   \n",
              "4      Prof-specialty             1   Black   Female             0  ...   \n",
              "\n",
              "    United-States   Mexico   Philippines   Germany   Canada   Puerto-Rico  \\\n",
              "0               1        0             0         0        0             0   \n",
              "1               1        0             0         0        0             0   \n",
              "2               1        0             0         0        0             0   \n",
              "3               1        0             0         0        0             0   \n",
              "4               0        0             0         0        0             0   \n",
              "\n",
              "    El-Salvador   India   Cuba   England  \n",
              "0             0       0      0         0  \n",
              "1             0       0      0         0  \n",
              "2             0       0      0         0  \n",
              "3             0       0      0         0  \n",
              "4             0       0      1         0  \n",
              "\n",
              "[5 rows x 22 columns]"
            ],
            "text/html": [
              "\n",
              "  <div id=\"df-84b92fe2-d749-4064-b7b1-c0566697146a\">\n",
              "    <div class=\"colab-df-container\">\n",
              "      <div>\n",
              "<style scoped>\n",
              "    .dataframe tbody tr th:only-of-type {\n",
              "        vertical-align: middle;\n",
              "    }\n",
              "\n",
              "    .dataframe tbody tr th {\n",
              "        vertical-align: top;\n",
              "    }\n",
              "\n",
              "    .dataframe thead th {\n",
              "        text-align: right;\n",
              "    }\n",
              "</style>\n",
              "<table border=\"1\" class=\"dataframe\">\n",
              "  <thead>\n",
              "    <tr style=\"text-align: right;\">\n",
              "      <th></th>\n",
              "      <th>age</th>\n",
              "      <th>workclass</th>\n",
              "      <th>fnlwgt</th>\n",
              "      <th>education-num</th>\n",
              "      <th>marital-status</th>\n",
              "      <th>occupation</th>\n",
              "      <th>relationship</th>\n",
              "      <th>race</th>\n",
              "      <th>sex</th>\n",
              "      <th>capital-gain</th>\n",
              "      <th>...</th>\n",
              "      <th>United-States</th>\n",
              "      <th>Mexico</th>\n",
              "      <th>Philippines</th>\n",
              "      <th>Germany</th>\n",
              "      <th>Canada</th>\n",
              "      <th>Puerto-Rico</th>\n",
              "      <th>El-Salvador</th>\n",
              "      <th>India</th>\n",
              "      <th>Cuba</th>\n",
              "      <th>England</th>\n",
              "    </tr>\n",
              "  </thead>\n",
              "  <tbody>\n",
              "    <tr>\n",
              "      <th>0</th>\n",
              "      <td>39</td>\n",
              "      <td>State-gov</td>\n",
              "      <td>77516</td>\n",
              "      <td>13</td>\n",
              "      <td>-1</td>\n",
              "      <td>Adm-clerical</td>\n",
              "      <td>0</td>\n",
              "      <td>White</td>\n",
              "      <td>Male</td>\n",
              "      <td>2174</td>\n",
              "      <td>...</td>\n",
              "      <td>1</td>\n",
              "      <td>0</td>\n",
              "      <td>0</td>\n",
              "      <td>0</td>\n",
              "      <td>0</td>\n",
              "      <td>0</td>\n",
              "      <td>0</td>\n",
              "      <td>0</td>\n",
              "      <td>0</td>\n",
              "      <td>0</td>\n",
              "    </tr>\n",
              "    <tr>\n",
              "      <th>1</th>\n",
              "      <td>50</td>\n",
              "      <td>Self-emp-not-inc</td>\n",
              "      <td>83311</td>\n",
              "      <td>13</td>\n",
              "      <td>1</td>\n",
              "      <td>Exec-managerial</td>\n",
              "      <td>1</td>\n",
              "      <td>White</td>\n",
              "      <td>Male</td>\n",
              "      <td>0</td>\n",
              "      <td>...</td>\n",
              "      <td>1</td>\n",
              "      <td>0</td>\n",
              "      <td>0</td>\n",
              "      <td>0</td>\n",
              "      <td>0</td>\n",
              "      <td>0</td>\n",
              "      <td>0</td>\n",
              "      <td>0</td>\n",
              "      <td>0</td>\n",
              "      <td>0</td>\n",
              "    </tr>\n",
              "    <tr>\n",
              "      <th>2</th>\n",
              "      <td>38</td>\n",
              "      <td>Private</td>\n",
              "      <td>215646</td>\n",
              "      <td>9</td>\n",
              "      <td>0</td>\n",
              "      <td>Handlers-cleaners</td>\n",
              "      <td>0</td>\n",
              "      <td>White</td>\n",
              "      <td>Male</td>\n",
              "      <td>0</td>\n",
              "      <td>...</td>\n",
              "      <td>1</td>\n",
              "      <td>0</td>\n",
              "      <td>0</td>\n",
              "      <td>0</td>\n",
              "      <td>0</td>\n",
              "      <td>0</td>\n",
              "      <td>0</td>\n",
              "      <td>0</td>\n",
              "      <td>0</td>\n",
              "      <td>0</td>\n",
              "    </tr>\n",
              "    <tr>\n",
              "      <th>3</th>\n",
              "      <td>53</td>\n",
              "      <td>Private</td>\n",
              "      <td>234721</td>\n",
              "      <td>7</td>\n",
              "      <td>1</td>\n",
              "      <td>Handlers-cleaners</td>\n",
              "      <td>1</td>\n",
              "      <td>Black</td>\n",
              "      <td>Male</td>\n",
              "      <td>0</td>\n",
              "      <td>...</td>\n",
              "      <td>1</td>\n",
              "      <td>0</td>\n",
              "      <td>0</td>\n",
              "      <td>0</td>\n",
              "      <td>0</td>\n",
              "      <td>0</td>\n",
              "      <td>0</td>\n",
              "      <td>0</td>\n",
              "      <td>0</td>\n",
              "      <td>0</td>\n",
              "    </tr>\n",
              "    <tr>\n",
              "      <th>4</th>\n",
              "      <td>28</td>\n",
              "      <td>Private</td>\n",
              "      <td>338409</td>\n",
              "      <td>13</td>\n",
              "      <td>1</td>\n",
              "      <td>Prof-specialty</td>\n",
              "      <td>1</td>\n",
              "      <td>Black</td>\n",
              "      <td>Female</td>\n",
              "      <td>0</td>\n",
              "      <td>...</td>\n",
              "      <td>0</td>\n",
              "      <td>0</td>\n",
              "      <td>0</td>\n",
              "      <td>0</td>\n",
              "      <td>0</td>\n",
              "      <td>0</td>\n",
              "      <td>0</td>\n",
              "      <td>0</td>\n",
              "      <td>1</td>\n",
              "      <td>0</td>\n",
              "    </tr>\n",
              "  </tbody>\n",
              "</table>\n",
              "<p>5 rows × 22 columns</p>\n",
              "</div>\n",
              "      <button class=\"colab-df-convert\" onclick=\"convertToInteractive('df-84b92fe2-d749-4064-b7b1-c0566697146a')\"\n",
              "              title=\"Convert this dataframe to an interactive table.\"\n",
              "              style=\"display:none;\">\n",
              "        \n",
              "  <svg xmlns=\"http://www.w3.org/2000/svg\" height=\"24px\"viewBox=\"0 0 24 24\"\n",
              "       width=\"24px\">\n",
              "    <path d=\"M0 0h24v24H0V0z\" fill=\"none\"/>\n",
              "    <path d=\"M18.56 5.44l.94 2.06.94-2.06 2.06-.94-2.06-.94-.94-2.06-.94 2.06-2.06.94zm-11 1L8.5 8.5l.94-2.06 2.06-.94-2.06-.94L8.5 2.5l-.94 2.06-2.06.94zm10 10l.94 2.06.94-2.06 2.06-.94-2.06-.94-.94-2.06-.94 2.06-2.06.94z\"/><path d=\"M17.41 7.96l-1.37-1.37c-.4-.4-.92-.59-1.43-.59-.52 0-1.04.2-1.43.59L10.3 9.45l-7.72 7.72c-.78.78-.78 2.05 0 2.83L4 21.41c.39.39.9.59 1.41.59.51 0 1.02-.2 1.41-.59l7.78-7.78 2.81-2.81c.8-.78.8-2.07 0-2.86zM5.41 20L4 18.59l7.72-7.72 1.47 1.35L5.41 20z\"/>\n",
              "  </svg>\n",
              "      </button>\n",
              "      \n",
              "  <style>\n",
              "    .colab-df-container {\n",
              "      display:flex;\n",
              "      flex-wrap:wrap;\n",
              "      gap: 12px;\n",
              "    }\n",
              "\n",
              "    .colab-df-convert {\n",
              "      background-color: #E8F0FE;\n",
              "      border: none;\n",
              "      border-radius: 50%;\n",
              "      cursor: pointer;\n",
              "      display: none;\n",
              "      fill: #1967D2;\n",
              "      height: 32px;\n",
              "      padding: 0 0 0 0;\n",
              "      width: 32px;\n",
              "    }\n",
              "\n",
              "    .colab-df-convert:hover {\n",
              "      background-color: #E2EBFA;\n",
              "      box-shadow: 0px 1px 2px rgba(60, 64, 67, 0.3), 0px 1px 3px 1px rgba(60, 64, 67, 0.15);\n",
              "      fill: #174EA6;\n",
              "    }\n",
              "\n",
              "    [theme=dark] .colab-df-convert {\n",
              "      background-color: #3B4455;\n",
              "      fill: #D2E3FC;\n",
              "    }\n",
              "\n",
              "    [theme=dark] .colab-df-convert:hover {\n",
              "      background-color: #434B5C;\n",
              "      box-shadow: 0px 1px 3px 1px rgba(0, 0, 0, 0.15);\n",
              "      filter: drop-shadow(0px 1px 2px rgba(0, 0, 0, 0.3));\n",
              "      fill: #FFFFFF;\n",
              "    }\n",
              "  </style>\n",
              "\n",
              "      <script>\n",
              "        const buttonEl =\n",
              "          document.querySelector('#df-84b92fe2-d749-4064-b7b1-c0566697146a button.colab-df-convert');\n",
              "        buttonEl.style.display =\n",
              "          google.colab.kernel.accessAllowed ? 'block' : 'none';\n",
              "\n",
              "        async function convertToInteractive(key) {\n",
              "          const element = document.querySelector('#df-84b92fe2-d749-4064-b7b1-c0566697146a');\n",
              "          const dataTable =\n",
              "            await google.colab.kernel.invokeFunction('convertToInteractive',\n",
              "                                                     [key], {});\n",
              "          if (!dataTable) return;\n",
              "\n",
              "          const docLinkHtml = 'Like what you see? Visit the ' +\n",
              "            '<a target=\"_blank\" href=https://colab.research.google.com/notebooks/data_table.ipynb>data table notebook</a>'\n",
              "            + ' to learn more about interactive tables.';\n",
              "          element.innerHTML = '';\n",
              "          dataTable['output_type'] = 'display_data';\n",
              "          await google.colab.output.renderOutput(dataTable, element);\n",
              "          const docLink = document.createElement('div');\n",
              "          docLink.innerHTML = docLinkHtml;\n",
              "          element.appendChild(docLink);\n",
              "        }\n",
              "      </script>\n",
              "    </div>\n",
              "  </div>\n",
              "  "
            ]
          },
          "metadata": {},
          "execution_count": 49
        }
      ],
      "source": [
        "X.head(5)"
      ]
    },
    {
      "cell_type": "code",
      "execution_count": 50,
      "id": "ad185de7",
      "metadata": {
        "id": "ad185de7"
      },
      "outputs": [],
      "source": [
        "for i in numerical_fields_for_normalization:\n",
        "    X = normalization_of_numerical(X, i)\n"
      ]
    },
    {
      "cell_type": "code",
      "execution_count": 51,
      "id": "83ab75b8",
      "metadata": {
        "id": "83ab75b8"
      },
      "outputs": [],
      "source": [
        "#normalizing numerical attributes so that they are equally scaled\n",
        "for j in nominal_fields_for_one_hot_encoding:\n",
        "    X = one_hot_encoding_field(X, j)\n"
      ]
    },
    {
      "cell_type": "code",
      "execution_count": 52,
      "id": "678f3ef5",
      "metadata": {
        "colab": {
          "base_uri": "https://localhost:8080/",
          "height": 540
        },
        "id": "678f3ef5",
        "outputId": "a245b7f9-301a-4536-c5ba-ada6fe54b875"
      },
      "outputs": [
        {
          "output_type": "execute_result",
          "data": {
            "text/plain": [
              "            age    fnlwgt  education-num  marital-status  relationship  \\\n",
              "0      0.433333  0.052210         0.8125              -1             0   \n",
              "1      0.555556  0.056113         0.8125               1             1   \n",
              "2      0.422222  0.145245         0.5625               0             0   \n",
              "3      0.588889  0.158093         0.4375               1             1   \n",
              "4      0.311111  0.227930         0.8125               1             1   \n",
              "...         ...       ...            ...             ...           ...   \n",
              "32556  0.300000  0.173302         0.7500               1             1   \n",
              "32557  0.444444  0.103976         0.5625               1             1   \n",
              "32558  0.644444  0.102317         0.5625               0             0   \n",
              "32559  0.244444  0.135710         0.5625              -1             0   \n",
              "32560  0.577778  0.193929         0.5625               1             1   \n",
              "\n",
              "       capital-gain  capital-loss  hours-per-week   United-States   Mexico  \\\n",
              "0          0.021740           0.0        0.404040               1        0   \n",
              "1          0.000000           0.0        0.131313               1        0   \n",
              "2          0.000000           0.0        0.404040               1        0   \n",
              "3          0.000000           0.0        0.404040               1        0   \n",
              "4          0.000000           0.0        0.404040               0        0   \n",
              "...             ...           ...             ...             ...      ...   \n",
              "32556      0.000000           0.0        0.383838               1        0   \n",
              "32557      0.000000           0.0        0.404040               1        0   \n",
              "32558      0.000000           0.0        0.404040               1        0   \n",
              "32559      0.000000           0.0        0.202020               1        0   \n",
              "32560      0.150242           0.0        0.404040               1        0   \n",
              "\n",
              "       ...  occupation= Sales  occupation= Tech-support  \\\n",
              "0      ...                  0                         0   \n",
              "1      ...                  0                         0   \n",
              "2      ...                  0                         0   \n",
              "3      ...                  0                         0   \n",
              "4      ...                  0                         0   \n",
              "...    ...                ...                       ...   \n",
              "32556  ...                  0                         1   \n",
              "32557  ...                  0                         0   \n",
              "32558  ...                  0                         0   \n",
              "32559  ...                  0                         0   \n",
              "32560  ...                  0                         0   \n",
              "\n",
              "       occupation= Transport-moving  sex= Female  sex= Male  \\\n",
              "0                                 0            0          1   \n",
              "1                                 0            0          1   \n",
              "2                                 0            0          1   \n",
              "3                                 0            0          1   \n",
              "4                                 0            1          0   \n",
              "...                             ...          ...        ...   \n",
              "32556                             0            1          0   \n",
              "32557                             0            0          1   \n",
              "32558                             0            1          0   \n",
              "32559                             0            0          1   \n",
              "32560                             0            1          0   \n",
              "\n",
              "       race= Amer-Indian-Eskimo  race= Asian-Pac-Islander  race= Black  \\\n",
              "0                             0                         0            0   \n",
              "1                             0                         0            0   \n",
              "2                             0                         0            0   \n",
              "3                             0                         0            1   \n",
              "4                             0                         0            1   \n",
              "...                         ...                       ...          ...   \n",
              "32556                         0                         0            0   \n",
              "32557                         0                         0            0   \n",
              "32558                         0                         0            0   \n",
              "32559                         0                         0            0   \n",
              "32560                         0                         0            0   \n",
              "\n",
              "       race= Other  race= White  \n",
              "0                0            1  \n",
              "1                0            1  \n",
              "2                0            1  \n",
              "3                0            0  \n",
              "4                0            0  \n",
              "...            ...          ...  \n",
              "32556            0            1  \n",
              "32557            0            1  \n",
              "32558            0            1  \n",
              "32559            0            1  \n",
              "32560            0            1  \n",
              "\n",
              "[32537 rows x 47 columns]"
            ],
            "text/html": [
              "\n",
              "  <div id=\"df-bf01ba81-3b15-48d0-acdb-ca2d6dcaab52\">\n",
              "    <div class=\"colab-df-container\">\n",
              "      <div>\n",
              "<style scoped>\n",
              "    .dataframe tbody tr th:only-of-type {\n",
              "        vertical-align: middle;\n",
              "    }\n",
              "\n",
              "    .dataframe tbody tr th {\n",
              "        vertical-align: top;\n",
              "    }\n",
              "\n",
              "    .dataframe thead th {\n",
              "        text-align: right;\n",
              "    }\n",
              "</style>\n",
              "<table border=\"1\" class=\"dataframe\">\n",
              "  <thead>\n",
              "    <tr style=\"text-align: right;\">\n",
              "      <th></th>\n",
              "      <th>age</th>\n",
              "      <th>fnlwgt</th>\n",
              "      <th>education-num</th>\n",
              "      <th>marital-status</th>\n",
              "      <th>relationship</th>\n",
              "      <th>capital-gain</th>\n",
              "      <th>capital-loss</th>\n",
              "      <th>hours-per-week</th>\n",
              "      <th>United-States</th>\n",
              "      <th>Mexico</th>\n",
              "      <th>...</th>\n",
              "      <th>occupation= Sales</th>\n",
              "      <th>occupation= Tech-support</th>\n",
              "      <th>occupation= Transport-moving</th>\n",
              "      <th>sex= Female</th>\n",
              "      <th>sex= Male</th>\n",
              "      <th>race= Amer-Indian-Eskimo</th>\n",
              "      <th>race= Asian-Pac-Islander</th>\n",
              "      <th>race= Black</th>\n",
              "      <th>race= Other</th>\n",
              "      <th>race= White</th>\n",
              "    </tr>\n",
              "  </thead>\n",
              "  <tbody>\n",
              "    <tr>\n",
              "      <th>0</th>\n",
              "      <td>0.433333</td>\n",
              "      <td>0.052210</td>\n",
              "      <td>0.8125</td>\n",
              "      <td>-1</td>\n",
              "      <td>0</td>\n",
              "      <td>0.021740</td>\n",
              "      <td>0.0</td>\n",
              "      <td>0.404040</td>\n",
              "      <td>1</td>\n",
              "      <td>0</td>\n",
              "      <td>...</td>\n",
              "      <td>0</td>\n",
              "      <td>0</td>\n",
              "      <td>0</td>\n",
              "      <td>0</td>\n",
              "      <td>1</td>\n",
              "      <td>0</td>\n",
              "      <td>0</td>\n",
              "      <td>0</td>\n",
              "      <td>0</td>\n",
              "      <td>1</td>\n",
              "    </tr>\n",
              "    <tr>\n",
              "      <th>1</th>\n",
              "      <td>0.555556</td>\n",
              "      <td>0.056113</td>\n",
              "      <td>0.8125</td>\n",
              "      <td>1</td>\n",
              "      <td>1</td>\n",
              "      <td>0.000000</td>\n",
              "      <td>0.0</td>\n",
              "      <td>0.131313</td>\n",
              "      <td>1</td>\n",
              "      <td>0</td>\n",
              "      <td>...</td>\n",
              "      <td>0</td>\n",
              "      <td>0</td>\n",
              "      <td>0</td>\n",
              "      <td>0</td>\n",
              "      <td>1</td>\n",
              "      <td>0</td>\n",
              "      <td>0</td>\n",
              "      <td>0</td>\n",
              "      <td>0</td>\n",
              "      <td>1</td>\n",
              "    </tr>\n",
              "    <tr>\n",
              "      <th>2</th>\n",
              "      <td>0.422222</td>\n",
              "      <td>0.145245</td>\n",
              "      <td>0.5625</td>\n",
              "      <td>0</td>\n",
              "      <td>0</td>\n",
              "      <td>0.000000</td>\n",
              "      <td>0.0</td>\n",
              "      <td>0.404040</td>\n",
              "      <td>1</td>\n",
              "      <td>0</td>\n",
              "      <td>...</td>\n",
              "      <td>0</td>\n",
              "      <td>0</td>\n",
              "      <td>0</td>\n",
              "      <td>0</td>\n",
              "      <td>1</td>\n",
              "      <td>0</td>\n",
              "      <td>0</td>\n",
              "      <td>0</td>\n",
              "      <td>0</td>\n",
              "      <td>1</td>\n",
              "    </tr>\n",
              "    <tr>\n",
              "      <th>3</th>\n",
              "      <td>0.588889</td>\n",
              "      <td>0.158093</td>\n",
              "      <td>0.4375</td>\n",
              "      <td>1</td>\n",
              "      <td>1</td>\n",
              "      <td>0.000000</td>\n",
              "      <td>0.0</td>\n",
              "      <td>0.404040</td>\n",
              "      <td>1</td>\n",
              "      <td>0</td>\n",
              "      <td>...</td>\n",
              "      <td>0</td>\n",
              "      <td>0</td>\n",
              "      <td>0</td>\n",
              "      <td>0</td>\n",
              "      <td>1</td>\n",
              "      <td>0</td>\n",
              "      <td>0</td>\n",
              "      <td>1</td>\n",
              "      <td>0</td>\n",
              "      <td>0</td>\n",
              "    </tr>\n",
              "    <tr>\n",
              "      <th>4</th>\n",
              "      <td>0.311111</td>\n",
              "      <td>0.227930</td>\n",
              "      <td>0.8125</td>\n",
              "      <td>1</td>\n",
              "      <td>1</td>\n",
              "      <td>0.000000</td>\n",
              "      <td>0.0</td>\n",
              "      <td>0.404040</td>\n",
              "      <td>0</td>\n",
              "      <td>0</td>\n",
              "      <td>...</td>\n",
              "      <td>0</td>\n",
              "      <td>0</td>\n",
              "      <td>0</td>\n",
              "      <td>1</td>\n",
              "      <td>0</td>\n",
              "      <td>0</td>\n",
              "      <td>0</td>\n",
              "      <td>1</td>\n",
              "      <td>0</td>\n",
              "      <td>0</td>\n",
              "    </tr>\n",
              "    <tr>\n",
              "      <th>...</th>\n",
              "      <td>...</td>\n",
              "      <td>...</td>\n",
              "      <td>...</td>\n",
              "      <td>...</td>\n",
              "      <td>...</td>\n",
              "      <td>...</td>\n",
              "      <td>...</td>\n",
              "      <td>...</td>\n",
              "      <td>...</td>\n",
              "      <td>...</td>\n",
              "      <td>...</td>\n",
              "      <td>...</td>\n",
              "      <td>...</td>\n",
              "      <td>...</td>\n",
              "      <td>...</td>\n",
              "      <td>...</td>\n",
              "      <td>...</td>\n",
              "      <td>...</td>\n",
              "      <td>...</td>\n",
              "      <td>...</td>\n",
              "      <td>...</td>\n",
              "    </tr>\n",
              "    <tr>\n",
              "      <th>32556</th>\n",
              "      <td>0.300000</td>\n",
              "      <td>0.173302</td>\n",
              "      <td>0.7500</td>\n",
              "      <td>1</td>\n",
              "      <td>1</td>\n",
              "      <td>0.000000</td>\n",
              "      <td>0.0</td>\n",
              "      <td>0.383838</td>\n",
              "      <td>1</td>\n",
              "      <td>0</td>\n",
              "      <td>...</td>\n",
              "      <td>0</td>\n",
              "      <td>1</td>\n",
              "      <td>0</td>\n",
              "      <td>1</td>\n",
              "      <td>0</td>\n",
              "      <td>0</td>\n",
              "      <td>0</td>\n",
              "      <td>0</td>\n",
              "      <td>0</td>\n",
              "      <td>1</td>\n",
              "    </tr>\n",
              "    <tr>\n",
              "      <th>32557</th>\n",
              "      <td>0.444444</td>\n",
              "      <td>0.103976</td>\n",
              "      <td>0.5625</td>\n",
              "      <td>1</td>\n",
              "      <td>1</td>\n",
              "      <td>0.000000</td>\n",
              "      <td>0.0</td>\n",
              "      <td>0.404040</td>\n",
              "      <td>1</td>\n",
              "      <td>0</td>\n",
              "      <td>...</td>\n",
              "      <td>0</td>\n",
              "      <td>0</td>\n",
              "      <td>0</td>\n",
              "      <td>0</td>\n",
              "      <td>1</td>\n",
              "      <td>0</td>\n",
              "      <td>0</td>\n",
              "      <td>0</td>\n",
              "      <td>0</td>\n",
              "      <td>1</td>\n",
              "    </tr>\n",
              "    <tr>\n",
              "      <th>32558</th>\n",
              "      <td>0.644444</td>\n",
              "      <td>0.102317</td>\n",
              "      <td>0.5625</td>\n",
              "      <td>0</td>\n",
              "      <td>0</td>\n",
              "      <td>0.000000</td>\n",
              "      <td>0.0</td>\n",
              "      <td>0.404040</td>\n",
              "      <td>1</td>\n",
              "      <td>0</td>\n",
              "      <td>...</td>\n",
              "      <td>0</td>\n",
              "      <td>0</td>\n",
              "      <td>0</td>\n",
              "      <td>1</td>\n",
              "      <td>0</td>\n",
              "      <td>0</td>\n",
              "      <td>0</td>\n",
              "      <td>0</td>\n",
              "      <td>0</td>\n",
              "      <td>1</td>\n",
              "    </tr>\n",
              "    <tr>\n",
              "      <th>32559</th>\n",
              "      <td>0.244444</td>\n",
              "      <td>0.135710</td>\n",
              "      <td>0.5625</td>\n",
              "      <td>-1</td>\n",
              "      <td>0</td>\n",
              "      <td>0.000000</td>\n",
              "      <td>0.0</td>\n",
              "      <td>0.202020</td>\n",
              "      <td>1</td>\n",
              "      <td>0</td>\n",
              "      <td>...</td>\n",
              "      <td>0</td>\n",
              "      <td>0</td>\n",
              "      <td>0</td>\n",
              "      <td>0</td>\n",
              "      <td>1</td>\n",
              "      <td>0</td>\n",
              "      <td>0</td>\n",
              "      <td>0</td>\n",
              "      <td>0</td>\n",
              "      <td>1</td>\n",
              "    </tr>\n",
              "    <tr>\n",
              "      <th>32560</th>\n",
              "      <td>0.577778</td>\n",
              "      <td>0.193929</td>\n",
              "      <td>0.5625</td>\n",
              "      <td>1</td>\n",
              "      <td>1</td>\n",
              "      <td>0.150242</td>\n",
              "      <td>0.0</td>\n",
              "      <td>0.404040</td>\n",
              "      <td>1</td>\n",
              "      <td>0</td>\n",
              "      <td>...</td>\n",
              "      <td>0</td>\n",
              "      <td>0</td>\n",
              "      <td>0</td>\n",
              "      <td>1</td>\n",
              "      <td>0</td>\n",
              "      <td>0</td>\n",
              "      <td>0</td>\n",
              "      <td>0</td>\n",
              "      <td>0</td>\n",
              "      <td>1</td>\n",
              "    </tr>\n",
              "  </tbody>\n",
              "</table>\n",
              "<p>32537 rows × 47 columns</p>\n",
              "</div>\n",
              "      <button class=\"colab-df-convert\" onclick=\"convertToInteractive('df-bf01ba81-3b15-48d0-acdb-ca2d6dcaab52')\"\n",
              "              title=\"Convert this dataframe to an interactive table.\"\n",
              "              style=\"display:none;\">\n",
              "        \n",
              "  <svg xmlns=\"http://www.w3.org/2000/svg\" height=\"24px\"viewBox=\"0 0 24 24\"\n",
              "       width=\"24px\">\n",
              "    <path d=\"M0 0h24v24H0V0z\" fill=\"none\"/>\n",
              "    <path d=\"M18.56 5.44l.94 2.06.94-2.06 2.06-.94-2.06-.94-.94-2.06-.94 2.06-2.06.94zm-11 1L8.5 8.5l.94-2.06 2.06-.94-2.06-.94L8.5 2.5l-.94 2.06-2.06.94zm10 10l.94 2.06.94-2.06 2.06-.94-2.06-.94-.94-2.06-.94 2.06-2.06.94z\"/><path d=\"M17.41 7.96l-1.37-1.37c-.4-.4-.92-.59-1.43-.59-.52 0-1.04.2-1.43.59L10.3 9.45l-7.72 7.72c-.78.78-.78 2.05 0 2.83L4 21.41c.39.39.9.59 1.41.59.51 0 1.02-.2 1.41-.59l7.78-7.78 2.81-2.81c.8-.78.8-2.07 0-2.86zM5.41 20L4 18.59l7.72-7.72 1.47 1.35L5.41 20z\"/>\n",
              "  </svg>\n",
              "      </button>\n",
              "      \n",
              "  <style>\n",
              "    .colab-df-container {\n",
              "      display:flex;\n",
              "      flex-wrap:wrap;\n",
              "      gap: 12px;\n",
              "    }\n",
              "\n",
              "    .colab-df-convert {\n",
              "      background-color: #E8F0FE;\n",
              "      border: none;\n",
              "      border-radius: 50%;\n",
              "      cursor: pointer;\n",
              "      display: none;\n",
              "      fill: #1967D2;\n",
              "      height: 32px;\n",
              "      padding: 0 0 0 0;\n",
              "      width: 32px;\n",
              "    }\n",
              "\n",
              "    .colab-df-convert:hover {\n",
              "      background-color: #E2EBFA;\n",
              "      box-shadow: 0px 1px 2px rgba(60, 64, 67, 0.3), 0px 1px 3px 1px rgba(60, 64, 67, 0.15);\n",
              "      fill: #174EA6;\n",
              "    }\n",
              "\n",
              "    [theme=dark] .colab-df-convert {\n",
              "      background-color: #3B4455;\n",
              "      fill: #D2E3FC;\n",
              "    }\n",
              "\n",
              "    [theme=dark] .colab-df-convert:hover {\n",
              "      background-color: #434B5C;\n",
              "      box-shadow: 0px 1px 3px 1px rgba(0, 0, 0, 0.15);\n",
              "      filter: drop-shadow(0px 1px 2px rgba(0, 0, 0, 0.3));\n",
              "      fill: #FFFFFF;\n",
              "    }\n",
              "  </style>\n",
              "\n",
              "      <script>\n",
              "        const buttonEl =\n",
              "          document.querySelector('#df-bf01ba81-3b15-48d0-acdb-ca2d6dcaab52 button.colab-df-convert');\n",
              "        buttonEl.style.display =\n",
              "          google.colab.kernel.accessAllowed ? 'block' : 'none';\n",
              "\n",
              "        async function convertToInteractive(key) {\n",
              "          const element = document.querySelector('#df-bf01ba81-3b15-48d0-acdb-ca2d6dcaab52');\n",
              "          const dataTable =\n",
              "            await google.colab.kernel.invokeFunction('convertToInteractive',\n",
              "                                                     [key], {});\n",
              "          if (!dataTable) return;\n",
              "\n",
              "          const docLinkHtml = 'Like what you see? Visit the ' +\n",
              "            '<a target=\"_blank\" href=https://colab.research.google.com/notebooks/data_table.ipynb>data table notebook</a>'\n",
              "            + ' to learn more about interactive tables.';\n",
              "          element.innerHTML = '';\n",
              "          dataTable['output_type'] = 'display_data';\n",
              "          await google.colab.output.renderOutput(dataTable, element);\n",
              "          const docLink = document.createElement('div');\n",
              "          docLink.innerHTML = docLinkHtml;\n",
              "          element.appendChild(docLink);\n",
              "        }\n",
              "      </script>\n",
              "    </div>\n",
              "  </div>\n",
              "  "
            ]
          },
          "metadata": {},
          "execution_count": 52
        }
      ],
      "source": [
        "X"
      ]
    },
    {
      "cell_type": "markdown",
      "id": "83a68b33",
      "metadata": {
        "id": "83a68b33"
      },
      "source": [
        "#### smote sampling\n"
      ]
    },
    {
      "cell_type": "code",
      "execution_count": 53,
      "id": "4084a924",
      "metadata": {
        "id": "4084a924"
      },
      "outputs": [],
      "source": [
        "smote=SMOTE(random_state=42)\n",
        "X, y = smote.fit_resample(X, y)"
      ]
    },
    {
      "cell_type": "code",
      "execution_count": 54,
      "id": "cca1ed0c",
      "metadata": {
        "colab": {
          "base_uri": "https://localhost:8080/",
          "height": 317
        },
        "id": "cca1ed0c",
        "outputId": "41495be9-a3b5-4983-c412-c69093551717"
      },
      "outputs": [
        {
          "output_type": "display_data",
          "data": {
            "text/html": [
              "<html>\n",
              "<head><meta charset=\"utf-8\" /></head>\n",
              "<body>\n",
              "    <div>            <script src=\"https://cdnjs.cloudflare.com/ajax/libs/mathjax/2.7.5/MathJax.js?config=TeX-AMS-MML_SVG\"></script><script type=\"text/javascript\">if (window.MathJax) {MathJax.Hub.Config({SVG: {font: \"STIX-Web\"}});}</script>                <script type=\"text/javascript\">window.PlotlyConfig = {MathJaxConfig: 'local'};</script>\n",
              "        <script src=\"https://cdn.plot.ly/plotly-2.8.3.min.js\"></script>                <div id=\"68399921-8d9d-4b04-93f6-22072d2a0258\" class=\"plotly-graph-div\" style=\"height:300px; width:1000px;\"></div>            <script type=\"text/javascript\">                                    window.PLOTLYENV=window.PLOTLYENV || {};                                    if (document.getElementById(\"68399921-8d9d-4b04-93f6-22072d2a0258\")) {                    Plotly.newPlot(                        \"68399921-8d9d-4b04-93f6-22072d2a0258\",                        [{\"domain\":{\"x\":[0.0,1.0],\"y\":[0.0,1.0]},\"hovertemplate\":\"value=%{value}<extra></extra>\",\"legendgroup\":\"\",\"name\":\"\",\"showlegend\":false,\"values\":[24698,24698],\"type\":\"pie\"}],                        {\"template\":{\"data\":{\"bar\":[{\"error_x\":{\"color\":\"#2a3f5f\"},\"error_y\":{\"color\":\"#2a3f5f\"},\"marker\":{\"line\":{\"color\":\"#E5ECF6\",\"width\":0.5},\"pattern\":{\"fillmode\":\"overlay\",\"size\":10,\"solidity\":0.2}},\"type\":\"bar\"}],\"barpolar\":[{\"marker\":{\"line\":{\"color\":\"#E5ECF6\",\"width\":0.5},\"pattern\":{\"fillmode\":\"overlay\",\"size\":10,\"solidity\":0.2}},\"type\":\"barpolar\"}],\"carpet\":[{\"aaxis\":{\"endlinecolor\":\"#2a3f5f\",\"gridcolor\":\"white\",\"linecolor\":\"white\",\"minorgridcolor\":\"white\",\"startlinecolor\":\"#2a3f5f\"},\"baxis\":{\"endlinecolor\":\"#2a3f5f\",\"gridcolor\":\"white\",\"linecolor\":\"white\",\"minorgridcolor\":\"white\",\"startlinecolor\":\"#2a3f5f\"},\"type\":\"carpet\"}],\"choropleth\":[{\"colorbar\":{\"outlinewidth\":0,\"ticks\":\"\"},\"type\":\"choropleth\"}],\"contour\":[{\"colorbar\":{\"outlinewidth\":0,\"ticks\":\"\"},\"colorscale\":[[0.0,\"#0d0887\"],[0.1111111111111111,\"#46039f\"],[0.2222222222222222,\"#7201a8\"],[0.3333333333333333,\"#9c179e\"],[0.4444444444444444,\"#bd3786\"],[0.5555555555555556,\"#d8576b\"],[0.6666666666666666,\"#ed7953\"],[0.7777777777777778,\"#fb9f3a\"],[0.8888888888888888,\"#fdca26\"],[1.0,\"#f0f921\"]],\"type\":\"contour\"}],\"contourcarpet\":[{\"colorbar\":{\"outlinewidth\":0,\"ticks\":\"\"},\"type\":\"contourcarpet\"}],\"heatmap\":[{\"colorbar\":{\"outlinewidth\":0,\"ticks\":\"\"},\"colorscale\":[[0.0,\"#0d0887\"],[0.1111111111111111,\"#46039f\"],[0.2222222222222222,\"#7201a8\"],[0.3333333333333333,\"#9c179e\"],[0.4444444444444444,\"#bd3786\"],[0.5555555555555556,\"#d8576b\"],[0.6666666666666666,\"#ed7953\"],[0.7777777777777778,\"#fb9f3a\"],[0.8888888888888888,\"#fdca26\"],[1.0,\"#f0f921\"]],\"type\":\"heatmap\"}],\"heatmapgl\":[{\"colorbar\":{\"outlinewidth\":0,\"ticks\":\"\"},\"colorscale\":[[0.0,\"#0d0887\"],[0.1111111111111111,\"#46039f\"],[0.2222222222222222,\"#7201a8\"],[0.3333333333333333,\"#9c179e\"],[0.4444444444444444,\"#bd3786\"],[0.5555555555555556,\"#d8576b\"],[0.6666666666666666,\"#ed7953\"],[0.7777777777777778,\"#fb9f3a\"],[0.8888888888888888,\"#fdca26\"],[1.0,\"#f0f921\"]],\"type\":\"heatmapgl\"}],\"histogram\":[{\"marker\":{\"pattern\":{\"fillmode\":\"overlay\",\"size\":10,\"solidity\":0.2}},\"type\":\"histogram\"}],\"histogram2d\":[{\"colorbar\":{\"outlinewidth\":0,\"ticks\":\"\"},\"colorscale\":[[0.0,\"#0d0887\"],[0.1111111111111111,\"#46039f\"],[0.2222222222222222,\"#7201a8\"],[0.3333333333333333,\"#9c179e\"],[0.4444444444444444,\"#bd3786\"],[0.5555555555555556,\"#d8576b\"],[0.6666666666666666,\"#ed7953\"],[0.7777777777777778,\"#fb9f3a\"],[0.8888888888888888,\"#fdca26\"],[1.0,\"#f0f921\"]],\"type\":\"histogram2d\"}],\"histogram2dcontour\":[{\"colorbar\":{\"outlinewidth\":0,\"ticks\":\"\"},\"colorscale\":[[0.0,\"#0d0887\"],[0.1111111111111111,\"#46039f\"],[0.2222222222222222,\"#7201a8\"],[0.3333333333333333,\"#9c179e\"],[0.4444444444444444,\"#bd3786\"],[0.5555555555555556,\"#d8576b\"],[0.6666666666666666,\"#ed7953\"],[0.7777777777777778,\"#fb9f3a\"],[0.8888888888888888,\"#fdca26\"],[1.0,\"#f0f921\"]],\"type\":\"histogram2dcontour\"}],\"mesh3d\":[{\"colorbar\":{\"outlinewidth\":0,\"ticks\":\"\"},\"type\":\"mesh3d\"}],\"parcoords\":[{\"line\":{\"colorbar\":{\"outlinewidth\":0,\"ticks\":\"\"}},\"type\":\"parcoords\"}],\"pie\":[{\"automargin\":true,\"type\":\"pie\"}],\"scatter\":[{\"marker\":{\"colorbar\":{\"outlinewidth\":0,\"ticks\":\"\"}},\"type\":\"scatter\"}],\"scatter3d\":[{\"line\":{\"colorbar\":{\"outlinewidth\":0,\"ticks\":\"\"}},\"marker\":{\"colorbar\":{\"outlinewidth\":0,\"ticks\":\"\"}},\"type\":\"scatter3d\"}],\"scattercarpet\":[{\"marker\":{\"colorbar\":{\"outlinewidth\":0,\"ticks\":\"\"}},\"type\":\"scattercarpet\"}],\"scattergeo\":[{\"marker\":{\"colorbar\":{\"outlinewidth\":0,\"ticks\":\"\"}},\"type\":\"scattergeo\"}],\"scattergl\":[{\"marker\":{\"colorbar\":{\"outlinewidth\":0,\"ticks\":\"\"}},\"type\":\"scattergl\"}],\"scattermapbox\":[{\"marker\":{\"colorbar\":{\"outlinewidth\":0,\"ticks\":\"\"}},\"type\":\"scattermapbox\"}],\"scatterpolar\":[{\"marker\":{\"colorbar\":{\"outlinewidth\":0,\"ticks\":\"\"}},\"type\":\"scatterpolar\"}],\"scatterpolargl\":[{\"marker\":{\"colorbar\":{\"outlinewidth\":0,\"ticks\":\"\"}},\"type\":\"scatterpolargl\"}],\"scatterternary\":[{\"marker\":{\"colorbar\":{\"outlinewidth\":0,\"ticks\":\"\"}},\"type\":\"scatterternary\"}],\"surface\":[{\"colorbar\":{\"outlinewidth\":0,\"ticks\":\"\"},\"colorscale\":[[0.0,\"#0d0887\"],[0.1111111111111111,\"#46039f\"],[0.2222222222222222,\"#7201a8\"],[0.3333333333333333,\"#9c179e\"],[0.4444444444444444,\"#bd3786\"],[0.5555555555555556,\"#d8576b\"],[0.6666666666666666,\"#ed7953\"],[0.7777777777777778,\"#fb9f3a\"],[0.8888888888888888,\"#fdca26\"],[1.0,\"#f0f921\"]],\"type\":\"surface\"}],\"table\":[{\"cells\":{\"fill\":{\"color\":\"#EBF0F8\"},\"line\":{\"color\":\"white\"}},\"header\":{\"fill\":{\"color\":\"#C8D4E3\"},\"line\":{\"color\":\"white\"}},\"type\":\"table\"}]},\"layout\":{\"annotationdefaults\":{\"arrowcolor\":\"#2a3f5f\",\"arrowhead\":0,\"arrowwidth\":1},\"autotypenumbers\":\"strict\",\"coloraxis\":{\"colorbar\":{\"outlinewidth\":0,\"ticks\":\"\"}},\"colorscale\":{\"diverging\":[[0,\"#8e0152\"],[0.1,\"#c51b7d\"],[0.2,\"#de77ae\"],[0.3,\"#f1b6da\"],[0.4,\"#fde0ef\"],[0.5,\"#f7f7f7\"],[0.6,\"#e6f5d0\"],[0.7,\"#b8e186\"],[0.8,\"#7fbc41\"],[0.9,\"#4d9221\"],[1,\"#276419\"]],\"sequential\":[[0.0,\"#0d0887\"],[0.1111111111111111,\"#46039f\"],[0.2222222222222222,\"#7201a8\"],[0.3333333333333333,\"#9c179e\"],[0.4444444444444444,\"#bd3786\"],[0.5555555555555556,\"#d8576b\"],[0.6666666666666666,\"#ed7953\"],[0.7777777777777778,\"#fb9f3a\"],[0.8888888888888888,\"#fdca26\"],[1.0,\"#f0f921\"]],\"sequentialminus\":[[0.0,\"#0d0887\"],[0.1111111111111111,\"#46039f\"],[0.2222222222222222,\"#7201a8\"],[0.3333333333333333,\"#9c179e\"],[0.4444444444444444,\"#bd3786\"],[0.5555555555555556,\"#d8576b\"],[0.6666666666666666,\"#ed7953\"],[0.7777777777777778,\"#fb9f3a\"],[0.8888888888888888,\"#fdca26\"],[1.0,\"#f0f921\"]]},\"colorway\":[\"#636efa\",\"#EF553B\",\"#00cc96\",\"#ab63fa\",\"#FFA15A\",\"#19d3f3\",\"#FF6692\",\"#B6E880\",\"#FF97FF\",\"#FECB52\"],\"font\":{\"color\":\"#2a3f5f\"},\"geo\":{\"bgcolor\":\"white\",\"lakecolor\":\"white\",\"landcolor\":\"#E5ECF6\",\"showlakes\":true,\"showland\":true,\"subunitcolor\":\"white\"},\"hoverlabel\":{\"align\":\"left\"},\"hovermode\":\"closest\",\"mapbox\":{\"style\":\"light\"},\"paper_bgcolor\":\"white\",\"plot_bgcolor\":\"#E5ECF6\",\"polar\":{\"angularaxis\":{\"gridcolor\":\"white\",\"linecolor\":\"white\",\"ticks\":\"\"},\"bgcolor\":\"#E5ECF6\",\"radialaxis\":{\"gridcolor\":\"white\",\"linecolor\":\"white\",\"ticks\":\"\"}},\"scene\":{\"xaxis\":{\"backgroundcolor\":\"#E5ECF6\",\"gridcolor\":\"white\",\"gridwidth\":2,\"linecolor\":\"white\",\"showbackground\":true,\"ticks\":\"\",\"zerolinecolor\":\"white\"},\"yaxis\":{\"backgroundcolor\":\"#E5ECF6\",\"gridcolor\":\"white\",\"gridwidth\":2,\"linecolor\":\"white\",\"showbackground\":true,\"ticks\":\"\",\"zerolinecolor\":\"white\"},\"zaxis\":{\"backgroundcolor\":\"#E5ECF6\",\"gridcolor\":\"white\",\"gridwidth\":2,\"linecolor\":\"white\",\"showbackground\":true,\"ticks\":\"\",\"zerolinecolor\":\"white\"}},\"shapedefaults\":{\"line\":{\"color\":\"#2a3f5f\"}},\"ternary\":{\"aaxis\":{\"gridcolor\":\"white\",\"linecolor\":\"white\",\"ticks\":\"\"},\"baxis\":{\"gridcolor\":\"white\",\"linecolor\":\"white\",\"ticks\":\"\"},\"bgcolor\":\"#E5ECF6\",\"caxis\":{\"gridcolor\":\"white\",\"linecolor\":\"white\",\"ticks\":\"\"}},\"title\":{\"x\":0.05},\"xaxis\":{\"automargin\":true,\"gridcolor\":\"white\",\"linecolor\":\"white\",\"ticks\":\"\",\"title\":{\"standoff\":15},\"zerolinecolor\":\"white\",\"zerolinewidth\":2},\"yaxis\":{\"automargin\":true,\"gridcolor\":\"white\",\"linecolor\":\"white\",\"ticks\":\"\",\"title\":{\"standoff\":15},\"zerolinecolor\":\"white\",\"zerolinewidth\":2}}},\"legend\":{\"tracegroupgap\":0},\"title\":{\"text\":\"Data Balance\"},\"height\":300,\"width\":1000},                        {\"responsive\": true}                    ).then(function(){\n",
              "                            \n",
              "var gd = document.getElementById('68399921-8d9d-4b04-93f6-22072d2a0258');\n",
              "var x = new MutationObserver(function (mutations, observer) {{\n",
              "        var display = window.getComputedStyle(gd).display;\n",
              "        if (!display || display === 'none') {{\n",
              "            console.log([gd, 'removed!']);\n",
              "            Plotly.purge(gd);\n",
              "            observer.disconnect();\n",
              "        }}\n",
              "}});\n",
              "\n",
              "// Listen for the removal of the full notebook cells\n",
              "var notebookContainer = gd.closest('#notebook-container');\n",
              "if (notebookContainer) {{\n",
              "    x.observe(notebookContainer, {childList: true});\n",
              "}}\n",
              "\n",
              "// Listen for the clearing of the current output cell\n",
              "var outputEl = gd.closest('.output');\n",
              "if (outputEl) {{\n",
              "    x.observe(outputEl, {childList: true});\n",
              "}}\n",
              "\n",
              "                        })                };                            </script>        </div>\n",
              "</body>\n",
              "</html>"
            ]
          },
          "metadata": {}
        }
      ],
      "source": [
        "\n",
        "\n",
        "fig = px.pie(values=y.value_counts(), width=1000, height=300, title=\"Data Balance\")\n",
        "\n",
        "\n",
        "\n",
        "fig.show()"
      ]
    },
    {
      "cell_type": "markdown",
      "id": "e6702fbf",
      "metadata": {
        "id": "e6702fbf"
      },
      "source": [
        "## Modelling\n"
      ]
    },
    {
      "cell_type": "markdown",
      "source": [
        "---\n",
        "---\n",
        "*Initializing the 4 models*"
      ],
      "metadata": {
        "id": "EKCq0MpYB1ZI"
      },
      "id": "EKCq0MpYB1ZI"
    },
    {
      "cell_type": "code",
      "execution_count": 55,
      "id": "103a3005",
      "metadata": {
        "id": "103a3005"
      },
      "outputs": [],
      "source": [
        "decisionTree=DecisionTreeClassifier()\n",
        "logR = LogisticRegression(random_state=0, max_iter=X.shape[0])\n",
        "knn = KNeighborsClassifier(n_neighbors=4)\n",
        "randomModel = RandomForestClassifier()\n",
        "\n"
      ]
    },
    {
      "cell_type": "code",
      "execution_count": 56,
      "id": "e7df513b",
      "metadata": {
        "id": "e7df513b"
      },
      "outputs": [],
      "source": [
        "\n",
        "cross_val_score_decision_tree=cross_val_score(decisionTree,X,y,cv=10,scoring='accuracy').mean()\n",
        "\n",
        "cross_val_score_KNN=cross_val_score(knn,X,y,cv=10,scoring='accuracy').mean()\n",
        "\n",
        "cross_val_score_logR=cross_val_score(logR,X,y,cv=10,scoring='accuracy').mean()\n",
        "\n",
        "cross_val_score_random_forest=cross_val_score(randomModel,X,y,cv=10,scoring='accuracy').mean()\n"
      ]
    },
    {
      "cell_type": "code",
      "execution_count": 57,
      "id": "56a8ffa4",
      "metadata": {
        "colab": {
          "base_uri": "https://localhost:8080/"
        },
        "id": "56a8ffa4",
        "outputId": "695c2bf2-609b-4a82-c1b3-ef25883b126c"
      },
      "outputs": [
        {
          "output_type": "stream",
          "name": "stdout",
          "text": [
            "The accuracy of Decision Tree accuracy  0.8556590771788286\n",
            "Logistic Regression accuracy  0.825026796553581\n",
            "KNN accuracy  0.8602123231357787\n",
            "Random forest accuracy  0.8987184378158473\n"
          ]
        }
      ],
      "source": [
        "print(\"The accuracy of Decision Tree accuracy \",cross_val_score_decision_tree)\n",
        "print(\"Logistic Regression accuracy \",cross_val_score_logR)\n",
        "print(\"KNN accuracy \",cross_val_score_KNN)\n",
        "print(\"Random forest accuracy \",cross_val_score_random_forest)"
      ]
    },
    {
      "cell_type": "code",
      "execution_count": 58,
      "id": "c594b6b2",
      "metadata": {
        "id": "c594b6b2"
      },
      "outputs": [],
      "source": [
        "### cross validation prediction"
      ]
    },
    {
      "cell_type": "code",
      "execution_count": 59,
      "id": "25ab1243",
      "metadata": {
        "id": "25ab1243"
      },
      "outputs": [],
      "source": [
        "# y_pred_decision_tree = cross_val_predict(decisionTree, X, y, cv=10)\n",
        "# y_pred_knn = cross_val_predict(knn, X, y, cv=10)\n",
        "# y_pred_random_logR = cross_val_predict(logR, X, y, cv=10)\n",
        "# y_pred_random_model = cross_val_predict(randomModel, X, y, cv=10)"
      ]
    },
    {
      "cell_type": "code",
      "execution_count": 59,
      "id": "f8122b51",
      "metadata": {
        "id": "f8122b51"
      },
      "outputs": [],
      "source": []
    },
    {
      "cell_type": "markdown",
      "source": [
        "---\n",
        "---\n",
        "*Function for model Evaluation*"
      ],
      "metadata": {
        "id": "BRAmUiwVDmyl"
      },
      "id": "BRAmUiwVDmyl"
    },
    {
      "cell_type": "code",
      "source": [
        "from sklearn import metrics\n",
        "def model_evaluation(modeName, x_val, y_val):\n",
        "  #plot_confusion_matrix(modeName,x_val,y_val) // deprecated\n",
        "  print(\"\\n\\n The model evaluation metrics : \\n\\n\")\n",
        "  prediction=modeName.predict(x_val)\n",
        "  print(\"Accuracy of the model is \",metrics.accuracy_score(y_val,prediction))\n",
        "  print(\"Recall of the model is \",metrics.recall_score(y_val,prediction))\n",
        "  print(\"Precision of the model is \",metrics.precision_score(y_val,prediction))\n",
        "  print(\"F1 Score of the model is \",metrics.f1_score(y_val,prediction))\n",
        "  print(\"\\n\\n\\n\")\n",
        "  cm=confusion_matrix(y_val,prediction)\n",
        "  print(\"\\n\\n\\n\")\n",
        "  plt.figure(figsize = (6,6))\n",
        "  sns.heatmap(cm, annot=True, cmap= 'flare',  fmt='d', cbar=True)\n",
        "  plt.xlabel('Predicted_Label')\n",
        "  plt.ylabel('Truth_Label')\n",
        "  plt.title('The Confusion Matrix - ')\n",
        "  \n"
      ],
      "metadata": {
        "id": "YkOpIaS1ahb2"
      },
      "id": "YkOpIaS1ahb2",
      "execution_count": 60,
      "outputs": []
    },
    {
      "cell_type": "markdown",
      "source": [
        "---\n",
        "---\n",
        " *Split the data into test and validation sets*"
      ],
      "metadata": {
        "id": "LMjzy2C5I7wJ"
      },
      "id": "LMjzy2C5I7wJ"
    },
    {
      "cell_type": "code",
      "source": [
        "X_train,X_validaiton, y_train, y_validation=train_test_split(X,y, test_size=0.2 ,shuffle=True, random_state=10)\n",
        "model_RF=randomModel.fit(X_train,y_train)\n",
        "#y_pred_random_model = model_RF.predict(X_validaiton)\n"
      ],
      "metadata": {
        "id": "GSTbuL5Dahwt"
      },
      "id": "GSTbuL5Dahwt",
      "execution_count": 61,
      "outputs": []
    },
    {
      "cell_type": "code",
      "source": [
        "# Model Evaluation for the most acuurate model\n",
        "model_evaluation(model_RF,X_validaiton,y_validation)"
      ],
      "metadata": {
        "colab": {
          "base_uri": "https://localhost:8080/",
          "height": 700
        },
        "id": "c5yU1BASbikK",
        "outputId": "c87e8719-f299-465b-b3fb-6ecb0ac497d5"
      },
      "id": "c5yU1BASbikK",
      "execution_count": 62,
      "outputs": [
        {
          "output_type": "stream",
          "name": "stdout",
          "text": [
            "\n",
            "\n",
            " The model evaluation metrics : \n",
            "\n",
            "\n",
            "Accuracy of the model is  0.8979757085020242\n",
            "Recall of the model is  0.9218781623153208\n",
            "Precision of the model is  0.8798531968321421\n",
            "F1 Score of the model is  0.9003755682941292\n",
            "\n",
            "\n",
            "\n",
            "\n",
            "\n",
            "\n",
            "\n",
            "\n"
          ]
        },
        {
          "output_type": "display_data",
          "data": {
            "text/plain": [
              "<Figure size 432x432 with 2 Axes>"
            ],
            "image/png": "[encoded data removed]"
          },
          "metadata": {
            "needs_background": "light"
          }
        }
      ]
    },
    {
      "cell_type": "markdown",
      "id": "689686f2",
      "metadata": {
        "id": "689686f2"
      },
      "source": [
        "## Deep learning\n"
      ]
    },
    {
      "cell_type": "code",
      "source": [
        "from keras.layers import Dense\n",
        "from keras.models import Sequential"
      ],
      "metadata": {
        "id": "yd1k7tlAnXZF"
      },
      "id": "yd1k7tlAnXZF",
      "execution_count": 79,
      "outputs": []
    },
    {
      "cell_type": "code",
      "source": [
        "dimensions=X_train.shape"
      ],
      "metadata": {
        "id": "7JD_O1QBnihI"
      },
      "id": "7JD_O1QBnihI",
      "execution_count": 80,
      "outputs": []
    },
    {
      "cell_type": "code",
      "source": [
        "\n",
        "model_dnn = Sequential()\n",
        "model_dnn.add(Dense(32, activation='relu', input_dim=dimensions[1]))\n",
        "model_dnn.add(Dense(16, activation='relu'))\n",
        "model_dnn.add(Dense(16, activation='relu'))\n",
        "\n",
        "# since this is a classification project, output layer activation function is Sigmoid\n",
        "model_dnn.add(Dense(1, activation='sigmoid'))\n",
        "model_dnn.compile(optimizer='adam', loss='binary_crossentropy', metrics=['accuracy'])\n"
      ],
      "metadata": {
        "id": "RTJ-TKpJnewM"
      },
      "id": "RTJ-TKpJnewM",
      "execution_count": 81,
      "outputs": []
    },
    {
      "cell_type": "code",
      "source": [
        "dnn=model_dnn.fit(X_train, y_train, epochs=200, verbose=False)"
      ],
      "metadata": {
        "id": "TovKQ9fcnpDQ"
      },
      "id": "TovKQ9fcnpDQ",
      "execution_count": 82,
      "outputs": []
    },
    {
      "cell_type": "code",
      "source": [
        "accuracy_score_dnn_train_data=model_dnn.evaluate(X_train,y_train, verbose=False)\n",
        "accuracy_score_dnn_test_data=test_score_dnn=model_dnn.evaluate(X_validaiton,y_validation, verbose=False)\n"
      ],
      "metadata": {
        "id": "cu4MqSZZLj8Q"
      },
      "id": "cu4MqSZZLj8Q",
      "execution_count": 83,
      "outputs": []
    },
    {
      "cell_type": "code",
      "source": [
        "print(\"\\nAccuracy on the training dataset is: %.2f%%\\n\" % (accuracy_score_dnn_train_data[1]*100))\n",
        "print(\"\\n\\nAccuracy on the testing dataset is: %.2f%%\\n\" % (accuracy_score_dnn_test_data[1]*100))"
      ],
      "metadata": {
        "colab": {
          "base_uri": "https://localhost:8080/"
        },
        "id": "WQ5Fk0kfMTXy",
        "outputId": "c1fca885-d304-4157-ff75-e3243e5ee454"
      },
      "id": "WQ5Fk0kfMTXy",
      "execution_count": 84,
      "outputs": [
        {
          "output_type": "stream",
          "name": "stdout",
          "text": [
            "\n",
            "Accuracy on the training dataset is: 87.04%\n",
            "\n",
            "\n",
            "\n",
            "Accuracy on the testing dataset is: 84.67%\n",
            "\n"
          ]
        }
      ]
    },
    {
      "cell_type": "code",
      "source": [
        "p_pred=model_dnn.predict(X_validaiton)\n",
        "#p_pred = p_pred.flatten()\n",
        "#prediction_dnn = np.where(p_pred > 0.5, 1, 0)\n",
        "\n"
      ],
      "metadata": {
        "colab": {
          "base_uri": "https://localhost:8080/"
        },
        "id": "yITgVzt4KAdm",
        "outputId": "926ff5c3-138b-4f51-a433-9515eda803a8"
      },
      "id": "yITgVzt4KAdm",
      "execution_count": 85,
      "outputs": [
        {
          "output_type": "stream",
          "name": "stdout",
          "text": [
            "309/309 [==============================] - 1s 3ms/step\n"
          ]
        }
      ]
    },
    {
      "cell_type": "code",
      "source": [
        "print(p_pred.round(2))"
      ],
      "metadata": {
        "colab": {
          "base_uri": "https://localhost:8080/"
        },
        "id": "lMOZ3oPIU3TF",
        "outputId": "af8876fd-a361-4040-f5a6-ee7e0716467e"
      },
      "id": "lMOZ3oPIU3TF",
      "execution_count": 72,
      "outputs": [
        {
          "output_type": "stream",
          "name": "stdout",
          "text": [
            "[[0.2 ]\n",
            " [0.04]\n",
            " [0.65]\n",
            " ...\n",
            " [0.83]\n",
            " [0.05]\n",
            " [0.  ]]\n"
          ]
        }
      ]
    },
    {
      "cell_type": "code",
      "source": [
        "dnn_c_matrix = confusion_matrix(y_validation, np.round(p_pred))\n",
        "ax = sns.heatmap(dnn_c_matrix, annot=True, xticklabels=['Less than 50k', 'More than 50k'], yticklabels=['Less than 50k', 'More than 50k'], cbar=False, cmap='Blues')\n",
        "\n",
        "#Turning off scientific notation\n",
        "sns.heatmap(dnn_c_matrix,annot=True, fmt='g')\n",
        "\n",
        "# ax.set_xlabel(\"Predicted result\")\n",
        "# ax.set_ylabel(\"Actual data\")\n",
        "\n",
        "\n",
        "# plt.show()\n",
        "# plt.clf()"
      ],
      "metadata": {
        "colab": {
          "base_uri": "https://localhost:8080/",
          "height": 282
        },
        "id": "9LH01PnUN5Fx",
        "outputId": "c06da849-fca6-4b6e-baa7-432fb101c0fb"
      },
      "id": "9LH01PnUN5Fx",
      "execution_count": 94,
      "outputs": [
        {
          "output_type": "execute_result",
          "data": {
            "text/plain": [
              "<matplotlib.axes._subplots.AxesSubplot at 0x7f0ed1660f70>"
            ]
          },
          "metadata": {},
          "execution_count": 94
        },
        {
          "output_type": "display_data",
          "data": {
            "text/plain": [
              "<Figure size 432x288 with 2 Axes>"
            ],
            "image/png": "[encoded data removed]"
          },
          "metadata": {
            "needs_background": "light"
          }
        }
      ]
    },
    {
      "cell_type": "code",
      "source": [
        "print(classification_report(y_validation, np.round(p_pred)))"
      ],
      "metadata": {
        "colab": {
          "base_uri": "https://localhost:8080/"
        },
        "id": "vZthOPuXcLSx",
        "outputId": "a86b26dd-5830-47f9-cffd-f1167d433ac3"
      },
      "id": "vZthOPuXcLSx",
      "execution_count": null,
      "outputs": [
        {
          "output_type": "stream",
          "name": "stdout",
          "text": [
            "              precision    recall  f1-score   support\n",
            "\n",
            "           0       0.83      0.84      0.84      4939\n",
            "           1       0.84      0.83      0.83      4941\n",
            "\n",
            "    accuracy                           0.83      9880\n",
            "   macro avg       0.83      0.83      0.83      9880\n",
            "weighted avg       0.83      0.83      0.83      9880\n",
            "\n"
          ]
        }
      ]
    },
    {
      "cell_type": "markdown",
      "source": [
        "Rewriting random forest evaluation for comapring with the Deep neural network"
      ],
      "metadata": {
        "id": "PC7oBaN0KbjD"
      },
      "id": "PC7oBaN0KbjD"
    },
    {
      "cell_type": "code",
      "source": [
        "\n",
        "model_evaluation(model_RF,X_validaiton,y_validation)"
      ],
      "metadata": {
        "colab": {
          "base_uri": "https://localhost:8080/",
          "height": 700
        },
        "id": "tglMYslVrw7a",
        "outputId": "591adfc5-475c-43f1-f46d-86de40476c42"
      },
      "id": "tglMYslVrw7a",
      "execution_count": 95,
      "outputs": [
        {
          "output_type": "stream",
          "name": "stdout",
          "text": [
            "\n",
            "\n",
            " The model evaluation metrics : \n",
            "\n",
            "\n",
            "Accuracy of the model is  0.8979757085020242\n",
            "Recall of the model is  0.9218781623153208\n",
            "Precision of the model is  0.8798531968321421\n",
            "F1 Score of the model is  0.9003755682941292\n",
            "\n",
            "\n",
            "\n",
            "\n",
            "\n",
            "\n",
            "\n",
            "\n"
          ]
        },
        {
          "output_type": "display_data",
          "data": {
            "text/plain": [
              "<Figure size 432x432 with 2 Axes>"
            ],
            "image/png": "[encoded data removed]"
          },
          "metadata": {
            "needs_background": "light"
          }
        }
      ]
    },
    {
      "cell_type": "markdown",
      "source": [
        "\n",
        "\n",
        "---\n",
        "\n",
        "\n",
        "\n",
        "---\n",
        "\n",
        "\n",
        "\n",
        "---\n",
        "\n",
        "\n",
        "**We found out that Random forest still has the better performace with respect to accuracy, precision, recall and F1 values**"
      ],
      "metadata": {
        "id": "p16g7tO4KlTy"
      },
      "id": "p16g7tO4KlTy"
    }
  ],
  "metadata": {
    "kernelspec": {
      "display_name": "Python 3 (ipykernel)",
      "language": "python",
      "name": "python3"
    },
    "language_info": {
      "codemirror_mode": {
        "name": "ipython",
        "version": 3
      },
      "file_extension": ".py",
      "mimetype": "text/x-python",
      "name": "python",
      "nbconvert_exporter": "python",
      "pygments_lexer": "ipython3",
      "version": "3.9.7"
    },
    "colab": {
      "provenance": []
    }
  },
  "nbformat": 4,
  "nbformat_minor": 5
}